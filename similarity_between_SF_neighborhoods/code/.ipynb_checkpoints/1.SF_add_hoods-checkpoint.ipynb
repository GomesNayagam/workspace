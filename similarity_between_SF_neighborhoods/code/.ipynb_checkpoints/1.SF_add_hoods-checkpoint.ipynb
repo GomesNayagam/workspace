{
 "metadata": {
  "name": ""
 },
 "nbformat": 3,
 "nbformat_minor": 0,
 "worksheets": [
  {
   "cells": [
    {
     "cell_type": "heading",
     "level": 2,
     "metadata": {},
     "source": [
      "WHICH NEIGHBORHOOD?  Determine which hood an event or place is in."
     ]
    },
    {
     "cell_type": "markdown",
     "metadata": {},
     "source": [
      "I obtained data from various sources (e.g., from datasf.org, trulia's api, walkscores.com, google) on the city of San Francisco.  The data includes number of crimes (of different types from police reports), number of quality of life complaints (i.e., 311 calls), types & numbers of businesses, fog ranking (from little to a lot), housing prices and # of bedrooms on the market in each hood, and transit density (e.g., public transportation, walking, & biking scores taken from walkscores.com).  \n",
      "\n",
      "I am going to use these data to build a quantitative model of similarity between neighborhoods.  As a first step, I must assign all of these data to the correct hood.  From the web, I obtain dictionary containing polygons of hoods in SF (i.e., the boundary coordinates of each hood).  In this ipython notebook, I am going to use a python library called shapely to bin each event or place into the proper hood.  "
     ]
    },
    {
     "cell_type": "code",
     "collapsed": false,
     "input": [
      "import pandas as pd\n",
      "import numpy as np\n",
      "import csv\n",
      "import re\n",
      "#for dealing with polygons and neighborhoods\n",
      "import shapely\n",
      "from shapely.geometry import Polygon\n",
      "from shapely.geometry import Point\n",
      "import math\n",
      "import json"
     ],
     "language": "python",
     "metadata": {},
     "outputs": [],
     "prompt_number": 2
    },
    {
     "cell_type": "markdown",
     "metadata": {},
     "source": [
      "FIRST, I am going to import a list of geometric polygons that cover SF.  Then after reformatting the data, I will use Shapely to label events and places as occurring in the correct neighborhood. \n",
      "    "
     ]
    },
    {
     "cell_type": "code",
     "collapsed": false,
     "input": [
      "#open SF hood polygons\n",
      "geo=open('../hoods_data/raw_data/hoods_db_new_nonoverlapping.json', 'r')\n",
      "js = json.load(geo)\n",
      "print 'The number of polygons (i.e., hoods) in SF is: ' + str(len(js['features']))\n"
     ],
     "language": "python",
     "metadata": {},
     "outputs": [
      {
       "output_type": "stream",
       "stream": "stdout",
       "text": [
        "The number of polygons (i.e., hoods) in SF is: 117\n"
       ]
      }
     ],
     "prompt_number": 15
    },
    {
     "cell_type": "markdown",
     "metadata": {},
     "source": [
      "To use these data with Shapely I need to reformat them in the following way:\n",
      "\n",
      "['Lower Haight',\n",
      " [(-122.4376483, 37.77310583),\n",
      "  (-122.4376483, 37.77310583)]]"
     ]
    },
    {
     "cell_type": "code",
     "collapsed": false,
     "input": [
      "#this will make a dictionary with each hood as the value and the value being the coordinates as a list of lists\n",
      "hoods1={}\n",
      "for i in xrange(len(js['features'])):\n",
      "    hood_name=js['features'][i]['properties']['name']\n",
      "    hoods1[hood_name]= js['features'][i]['geometry']['coordinates'][0]\n",
      "    \n",
      "#Now make the value one list with tuples of the x,y coordinates\n",
      "neighborhoods={}\n",
      "for k,v in hoods1.items():\n",
      "    hoodlist=[]\n",
      "    for i in v:\n",
      "        hoodlist.append(tuple(i))\n",
      "    neighborhoods[k]=hoodlist\n",
      "\n",
      "#Turn neighborhoods dict into a pandas data frame\n",
      "hoods_df=pd.DataFrame(neighborhoods.items(), columns=['hood', 'coordinates']) \n",
      "\n",
      "#make     \n",
      "hoods_df.to_csv('../hoods_data/raw_data/hoods_df.csv', index_label=False)\n",
      "hoods_df.head()   "
     ],
     "language": "python",
     "metadata": {},
     "outputs": [
      {
       "html": [
        "<div style=\"max-height:1000px;max-width:1500px;overflow:auto;\">\n",
        "<table border=\"1\" class=\"dataframe\">\n",
        "  <thead>\n",
        "    <tr style=\"text-align: right;\">\n",
        "      <th></th>\n",
        "      <th>hood</th>\n",
        "      <th>coordinates</th>\n",
        "    </tr>\n",
        "  </thead>\n",
        "  <tbody>\n",
        "    <tr>\n",
        "      <th>0</th>\n",
        "      <td>  Financial District</td>\n",
        "      <td> [(-122.402957361, 37.793779857), (-122.4033169...</td>\n",
        "    </tr>\n",
        "    <tr>\n",
        "      <th>1</th>\n",
        "      <td>          Parkmerced</td>\n",
        "      <td> [(-122.481385467, 37.72741413), (-122.48133358...</td>\n",
        "    </tr>\n",
        "    <tr>\n",
        "      <th>2</th>\n",
        "      <td>      Outer Richmond</td>\n",
        "      <td> [(-122.513161276, 37.775008059), (-122.5026709...</td>\n",
        "    </tr>\n",
        "    <tr>\n",
        "      <th>3</th>\n",
        "      <td>         West Portal</td>\n",
        "      <td> [(-122.47510247, 37.734625571), (-122.47564446...</td>\n",
        "    </tr>\n",
        "    <tr>\n",
        "      <th>4</th>\n",
        "      <td> Golden Gate Heights</td>\n",
        "      <td> [(-122.470334652, 37.76012355), (-122.47020416...</td>\n",
        "    </tr>\n",
        "  </tbody>\n",
        "</table>\n",
        "</div>"
       ],
       "metadata": {},
       "output_type": "pyout",
       "prompt_number": 17,
       "text": [
        "                  hood                                        coordinates\n",
        "0   Financial District  [(-122.402957361, 37.793779857), (-122.4033169...\n",
        "1           Parkmerced  [(-122.481385467, 37.72741413), (-122.48133358...\n",
        "2       Outer Richmond  [(-122.513161276, 37.775008059), (-122.5026709...\n",
        "3          West Portal  [(-122.47510247, 37.734625571), (-122.47564446...\n",
        "4  Golden Gate Heights  [(-122.470334652, 37.76012355), (-122.47020416..."
       ]
      }
     ],
     "prompt_number": 17
    },
    {
     "cell_type": "markdown",
     "metadata": {},
     "source": [
      "Now convert hood polygons into SHAPELY polygon classes"
     ]
    },
    {
     "cell_type": "code",
     "collapsed": false,
     "input": [
      "#now make a dictionary that contains polygons classes for each hood\n",
      "poly_dict={}\n",
      "for k,v in neighborhoods.items():\n",
      "    poly_dict[k]=Polygon(v)\n",
      "    "
     ],
     "language": "python",
     "metadata": {},
     "outputs": [],
     "prompt_number": 23
    },
    {
     "cell_type": "heading",
     "level": 2,
     "metadata": {},
     "source": [
      "Hood binning function"
     ]
    },
    {
     "cell_type": "markdown",
     "metadata": {},
     "source": [
      "This function can be used on all data sets to bin events/places into appropriate hoods. Use .apply() to apply the function."
     ]
    },
    {
     "cell_type": "code",
     "collapsed": false,
     "input": [
      "def hood_id(row):\n",
      "    #turn the lat-long coordinates into a Shapely point so that I can see which Shapely class polygon it is inside of\n",
      "    point=Point(row['X'],row['Y'])\n",
      "    #v is the shapely polygon, if the point is in that polygon, then make the column \"hood\" = key (hood name) of the poly_dict\n",
      "    for k,v in poly_dict.items():\n",
      "        if v.contains(point):\n",
      "            row['hood']= k\n",
      "    return row\n"
     ],
     "language": "python",
     "metadata": {},
     "outputs": [],
     "prompt_number": 44
    },
    {
     "cell_type": "heading",
     "level": 2,
     "metadata": {},
     "source": [
      "Crime data"
     ]
    },
    {
     "cell_type": "raw",
     "metadata": {},
     "source": [
      "I am now going to open up all the crime data, merge it together, and bin each event into the correct polygon/hood."
     ]
    },
    {
     "cell_type": "code",
     "collapsed": false,
     "input": [
      "crime_13=pd.read_csv(open('../hoods_data/raw_data/crime_data_sf/sfpd_incident_2013.csv'))\n",
      "crime_12=pd.read_csv(open('../hoods_data/raw_data/crime_data_sf/sfpd_incident_2012.csv'))\n",
      "crime_11=pd.read_csv(open('../hoods_data/raw_data/crime_data_sf/sfpd_incident_2011.csv'))\n",
      "crime_10=pd.read_csv(open('../hoods_data/raw_data/crime_data_sf/sfpd_incident_2010.csv'))\n",
      "crime_9=pd.read_csv(open('../hoods_data/raw_data/crime_data_sf/sfpd_incident_2009.csv'))\n",
      "crime_8=pd.read_csv(open('../hoods_data/raw_data/crime_data_sf/sfpd_incident_2008.csv'))\n",
      "crime_7=pd.read_csv(open('../hoods_data/raw_data/crime_data_sf/sfpd_incident_2007.csv'))\n",
      "crime_6=pd.read_csv(open('../hoods_data/raw_data/crime_data_sf/sfpd_incident_2006.csv'))\n",
      "crime_5=pd.read_csv(open('../hoods_data/raw_data/crime_data_sf/sfpd_incident_2005.csv'))\n",
      "crime_4=pd.read_csv(open('../hoods_data/raw_data/crime_data_sf/sfpd_incident_2004.csv'))\n",
      "crime_3=pd.read_csv(open('../hoods_data/raw_data/crime_data_sf/sfpd_incident_2003.csv'))\n",
      "\n",
      "#concatenate all these files\n",
      "crime_data=pd.concat([crime_13, crime_12, crime_11, crime_10, crime_9, crime_8, crime_7, crime_6, crime_5, crime_4, crime_3])\n",
      "\n",
      "#types of crime\n",
      "print 'The number of types of reported crime is: '  + str(len(crime_data['Category'].value_counts()))\n",
      "\n",
      "#keep only wanted columns\n",
      "crime_data= crime_data[['Category', 'Descript', 'DayOfWeek', 'Date', 'Time', 'X', 'Y']]\n",
      "crime_data.head(n=3)\n"
     ],
     "language": "python",
     "metadata": {},
     "outputs": [
      {
       "html": [
        "<div style=\"max-height:1000px;max-width:1500px;overflow:auto;\">\n",
        "<table border=\"1\" class=\"dataframe\">\n",
        "  <thead>\n",
        "    <tr style=\"text-align: right;\">\n",
        "      <th></th>\n",
        "      <th>Category</th>\n",
        "      <th>Descript</th>\n",
        "      <th>DayOfWeek</th>\n",
        "      <th>Date</th>\n",
        "      <th>Time</th>\n",
        "      <th>X</th>\n",
        "      <th>Y</th>\n",
        "    </tr>\n",
        "  </thead>\n",
        "  <tbody>\n",
        "    <tr>\n",
        "      <th>0</th>\n",
        "      <td> RECOVERED VEHICLE</td>\n",
        "      <td> VEHICLE, RECOVERED, AUTO</td>\n",
        "      <td> Saturday</td>\n",
        "      <td> 01/05/2013</td>\n",
        "      <td> 12:18</td>\n",
        "      <td>-122.397780</td>\n",
        "      <td> 37.753970</td>\n",
        "    </tr>\n",
        "    <tr>\n",
        "      <th>1</th>\n",
        "      <td>     LARCENY/THEFT</td>\n",
        "      <td>  PETTY THEFT OF PROPERTY</td>\n",
        "      <td>   Monday</td>\n",
        "      <td> 04/15/2013</td>\n",
        "      <td> 16:15</td>\n",
        "      <td>-122.431295</td>\n",
        "      <td> 37.728730</td>\n",
        "    </tr>\n",
        "    <tr>\n",
        "      <th>2</th>\n",
        "      <td>          WARRANTS</td>\n",
        "      <td>           WARRANT ARREST</td>\n",
        "      <td>   Sunday</td>\n",
        "      <td> 03/24/2013</td>\n",
        "      <td> 17:33</td>\n",
        "      <td>-122.403675</td>\n",
        "      <td> 37.775178</td>\n",
        "    </tr>\n",
        "  </tbody>\n",
        "</table>\n",
        "</div>"
       ],
       "metadata": {},
       "output_type": "pyout",
       "prompt_number": 36,
       "text": [
        "            Category                  Descript DayOfWeek        Date   Time  \\\n",
        "0  RECOVERED VEHICLE  VEHICLE, RECOVERED, AUTO  Saturday  01/05/2013  12:18   \n",
        "1      LARCENY/THEFT   PETTY THEFT OF PROPERTY    Monday  04/15/2013  16:15   \n",
        "2           WARRANTS            WARRANT ARREST    Sunday  03/24/2013  17:33   \n",
        "\n",
        "            X          Y  \n",
        "0 -122.397780  37.753970  \n",
        "1 -122.431295  37.728730  \n",
        "2 -122.403675  37.775178  "
       ]
      }
     ],
     "prompt_number": 36
    },
    {
     "cell_type": "markdown",
     "metadata": {},
     "source": [
      "Now I am going to make a 'hood binning function': which will add a column to dataset binning events/places into the correct hood. "
     ]
    },
    {
     "cell_type": "code",
     "collapsed": false,
     "input": [
      "crime_data['hood'] = \"none\"\n",
      "#Apply the binning function on the crime data\n",
      "crime_out=crime_data.apply(hood_id, axis=1)"
     ],
     "language": "python",
     "metadata": {},
     "outputs": [],
     "prompt_number": 45
    },
    {
     "cell_type": "code",
     "collapsed": false,
     "input": [
      "print crime_out.shape\n",
      "crime_out.head(n=2)"
     ],
     "language": "python",
     "metadata": {},
     "outputs": [
      {
       "output_type": "stream",
       "stream": "stdout",
       "text": [
        "(1467402, 8)\n"
       ]
      },
      {
       "html": [
        "<div style=\"max-height:1000px;max-width:1500px;overflow:auto;\">\n",
        "<table border=\"1\" class=\"dataframe\">\n",
        "  <thead>\n",
        "    <tr style=\"text-align: right;\">\n",
        "      <th></th>\n",
        "      <th>Category</th>\n",
        "      <th>Descript</th>\n",
        "      <th>DayOfWeek</th>\n",
        "      <th>Date</th>\n",
        "      <th>Time</th>\n",
        "      <th>X</th>\n",
        "      <th>Y</th>\n",
        "      <th>hood</th>\n",
        "    </tr>\n",
        "  </thead>\n",
        "  <tbody>\n",
        "    <tr>\n",
        "      <th>0</th>\n",
        "      <td> RECOVERED VEHICLE</td>\n",
        "      <td> VEHICLE, RECOVERED, AUTO</td>\n",
        "      <td> Saturday</td>\n",
        "      <td> 01/05/2013</td>\n",
        "      <td> 12:18</td>\n",
        "      <td>-122.397780</td>\n",
        "      <td> 37.75397</td>\n",
        "      <td>    Potrero Hill</td>\n",
        "    </tr>\n",
        "    <tr>\n",
        "      <th>1</th>\n",
        "      <td>     LARCENY/THEFT</td>\n",
        "      <td>  PETTY THEFT OF PROPERTY</td>\n",
        "      <td>   Monday</td>\n",
        "      <td> 04/15/2013</td>\n",
        "      <td> 16:15</td>\n",
        "      <td>-122.431295</td>\n",
        "      <td> 37.72873</td>\n",
        "      <td> Mission Terrace</td>\n",
        "    </tr>\n",
        "  </tbody>\n",
        "</table>\n",
        "</div>"
       ],
       "metadata": {},
       "output_type": "pyout",
       "prompt_number": 46,
       "text": [
        "            Category                  Descript DayOfWeek        Date   Time  \\\n",
        "0  RECOVERED VEHICLE  VEHICLE, RECOVERED, AUTO  Saturday  01/05/2013  12:18   \n",
        "1      LARCENY/THEFT   PETTY THEFT OF PROPERTY    Monday  04/15/2013  16:15   \n",
        "\n",
        "            X         Y             hood  \n",
        "0 -122.397780  37.75397     Potrero Hill  \n",
        "1 -122.431295  37.72873  Mission Terrace  "
       ]
      }
     ],
     "prompt_number": 46
    },
    {
     "cell_type": "heading",
     "level": 2,
     "metadata": {},
     "source": [
      "Quality of life complaints (311 calls)\n"
     ]
    },
    {
     "cell_type": "code",
     "collapsed": false,
     "input": [
      "hoods=pd.read_csv(open('../hoods_data/raw_data/quality_life_SF.csv'))\n",
      "#trim it down\n",
      "hoods_311= hoods[['Opened', 'Category', 'Y', 'X']]\n",
      "\n",
      "#add a hood column\n",
      "hoods_311['hood']=\"none\"\n",
      "\n",
      "#apply binning function \n",
      "quality_out=hoods_311.apply(hood_id, axis=1)\n",
      "quality_out.head(n=4)\n"
     ],
     "language": "python",
     "metadata": {},
     "outputs": [
      {
       "html": [
        "<div style=\"max-height:1000px;max-width:1500px;overflow:auto;\">\n",
        "<table border=\"1\" class=\"dataframe\">\n",
        "  <thead>\n",
        "    <tr style=\"text-align: right;\">\n",
        "      <th></th>\n",
        "      <th>Opened</th>\n",
        "      <th>Category</th>\n",
        "      <th>Y</th>\n",
        "      <th>X</th>\n",
        "      <th>hood</th>\n",
        "    </tr>\n",
        "  </thead>\n",
        "  <tbody>\n",
        "    <tr>\n",
        "      <th>0</th>\n",
        "      <td> 10/10/13 6:25</td>\n",
        "      <td>                 Sewer Issues</td>\n",
        "      <td> 37.736798</td>\n",
        "      <td>-122.487718</td>\n",
        "      <td>        Parkside</td>\n",
        "    </tr>\n",
        "    <tr>\n",
        "      <th>1</th>\n",
        "      <td> 10/10/13 6:15</td>\n",
        "      <td>                 Streetlights</td>\n",
        "      <td> 37.714694</td>\n",
        "      <td>-122.485230</td>\n",
        "      <td>       Lakeshore</td>\n",
        "    </tr>\n",
        "    <tr>\n",
        "      <th>2</th>\n",
        "      <td> 10/10/13 6:15</td>\n",
        "      <td>               Street Defects</td>\n",
        "      <td> 37.735782</td>\n",
        "      <td>-122.461242</td>\n",
        "      <td> Sherwood Forest</td>\n",
        "    </tr>\n",
        "    <tr>\n",
        "      <th>3</th>\n",
        "      <td> 10/10/13 6:07</td>\n",
        "      <td> Street and Sidewalk Cleaning</td>\n",
        "      <td> 37.766539</td>\n",
        "      <td>-122.422044</td>\n",
        "      <td>         Mission</td>\n",
        "    </tr>\n",
        "  </tbody>\n",
        "</table>\n",
        "</div>"
       ],
       "metadata": {},
       "output_type": "pyout",
       "prompt_number": 47,
       "text": [
        "          Opened                      Category          Y           X             hood\n",
        "0  10/10/13 6:25                  Sewer Issues  37.736798 -122.487718         Parkside\n",
        "1  10/10/13 6:15                  Streetlights  37.714694 -122.485230        Lakeshore\n",
        "2  10/10/13 6:15                Street Defects  37.735782 -122.461242  Sherwood Forest\n",
        "3  10/10/13 6:07  Street and Sidewalk Cleaning  37.766539 -122.422044          Mission"
       ]
      }
     ],
     "prompt_number": 47
    },
    {
     "cell_type": "heading",
     "level": 2,
     "metadata": {},
     "source": [
      "Number of active businesses\n"
     ]
    },
    {
     "cell_type": "code",
     "collapsed": false,
     "input": [
      "hoods = pd.read_csv(open('../hoods_data/raw_data/Active_business_in_SF_modified.csv'))\n",
      "\n",
      "#trim it down\n",
      "hoods_business = hoods[['Ownership_Name','Class Code', 'Location Start Date',\t'X',\t'Y',\t'PBC Code']]\n",
      "\n",
      "#apply binning function \n",
      "hoods_business['hood']=\"none\"\n",
      "biz_out=hoods_business.apply(hood_id, axis=1)\n",
      "biz_out.head()"
     ],
     "language": "python",
     "metadata": {},
     "outputs": [],
     "prompt_number": 139
    },
    {
     "cell_type": "heading",
     "level": 2,
     "metadata": {},
     "source": [
      "Add AREA of hood to each row of each dataset"
     ]
    },
    {
     "cell_type": "markdown",
     "metadata": {},
     "source": [
      "These values can later be used to determine density "
     ]
    },
    {
     "cell_type": "code",
     "collapsed": false,
     "input": [
      "#find area of each hood\n",
      "hood_areas={}\n",
      "for k,v in poly_dict.items():\n",
      "    hood_areas[k]=(v.area*10000)\n",
      "\n",
      "#turn file into csv file for later use\n",
      "hoods_area_df=pd.DataFrame(hood_areas.items(), columns=['hood', 'hood_area'])\n",
      "hoods_area_df.to_csv('../hoods_data/modified_csvs/hoods_area_df.csv', index_label=False)\n",
      "test=pd.read_csv(open('../hoods_data/modified_csvs/hoods_area_df.csv'))\n",
      "test.head(n=2)"
     ],
     "language": "python",
     "metadata": {},
     "outputs": [
      {
       "html": [
        "<div style=\"max-height:1000px;max-width:1500px;overflow:auto;\">\n",
        "<table border=\"1\" class=\"dataframe\">\n",
        "  <thead>\n",
        "    <tr style=\"text-align: right;\">\n",
        "      <th></th>\n",
        "      <th>hood</th>\n",
        "      <th>hood_area</th>\n",
        "    </tr>\n",
        "  </thead>\n",
        "  <tbody>\n",
        "    <tr>\n",
        "      <th>0</th>\n",
        "      <td> Financial District</td>\n",
        "      <td> 0.847272</td>\n",
        "    </tr>\n",
        "    <tr>\n",
        "      <th>1</th>\n",
        "      <td>         Parkmerced</td>\n",
        "      <td> 1.288294</td>\n",
        "    </tr>\n",
        "  </tbody>\n",
        "</table>\n",
        "</div>"
       ],
       "metadata": {},
       "output_type": "pyout",
       "prompt_number": 24,
       "text": [
        "                 hood  hood_area\n",
        "0  Financial District   0.847272\n",
        "1          Parkmerced   1.288294"
       ]
      }
     ],
     "prompt_number": 24
    },
    {
     "cell_type": "code",
     "collapsed": false,
     "input": [
      "def add_area(row):\n",
      "    for k,v in hood_areas.items():\n",
      "        if row['hood']==k:\n",
      "            row['hood_area']= v\n",
      "    return row\n",
      "\n",
      "biz_out=biz.apply(add_area, axis=1)\n",
      "crime_out=crime.apply(add_area, axis=1)\n",
      "quality_out=quality.apply(add_area, axis=1)"
     ],
     "language": "python",
     "metadata": {},
     "outputs": [],
     "prompt_number": 149
    },
    {
     "cell_type": "code",
     "collapsed": false,
     "input": [
      "#write these files to csv\n",
      "biz_out.to_csv('../hoods_data/modified_csvs/business_hoods.csv', index_label=False)\n",
      "crime_out.to_csv('../hoods_data/modified_csvs/crime_hoods.csv', index_label=False)\n",
      "quality_out.to_csv('../hoods_data/modified_csvs/quality_hoods.csv', index_label=False)"
     ],
     "language": "python",
     "metadata": {},
     "outputs": [],
     "prompt_number": 151
    }
   ],
   "metadata": {}
  }
 ]
}