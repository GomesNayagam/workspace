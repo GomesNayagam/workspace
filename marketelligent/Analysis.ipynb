{
 "metadata": {
  "celltoolbar": "Slideshow",
  "name": "",
  "signature": "sha256:307e171e849abc9ea94eb6a0cd653e4a958d4bbdb42628c750190b96487955dd"
 },
 "nbformat": 3,
 "nbformat_minor": 0,
 "worksheets": [
  {
   "cells": [
    {
     "cell_type": "heading",
     "level": 1,
     "metadata": {
      "slideshow": {
       "slide_type": "slide"
      }
     },
     "source": [
      "Voice of customer analysis"
     ]
    },
    {
     "cell_type": "code",
     "collapsed": false,
     "input": [
      "%matplotlib inline\n",
      "import numpy as np\n",
      "import matplotlib.pyplot as plt\n",
      "\n",
      "import pandas as pd\n",
      "import scipy as sp\n",
      "from scipy import stats\n",
      "from collections import defaultdict\n",
      "import json\n",
      "# for ipython html controls/widgets\n",
      "from IPython.html.widgets import interactive\n",
      "from IPython.display import HTML, display,IFrame"
     ],
     "language": "python",
     "metadata": {
      "slideshow": {
       "slide_type": "-"
      }
     },
     "outputs": [],
     "prompt_number": 3
    },
    {
     "cell_type": "code",
     "collapsed": false,
     "input": [
      "def distinct(df, column):\n",
      "    return df.sort_index(by=column, ascending=False)[:1]"
     ],
     "language": "python",
     "metadata": {},
     "outputs": [],
     "prompt_number": 4
    },
    {
     "cell_type": "code",
     "collapsed": false,
     "input": [
      "def top(df, column, n=5):\n",
      "    return df.sort_index(by=column, ascending=False)[:n]"
     ],
     "language": "python",
     "metadata": {},
     "outputs": [],
     "prompt_number": 5
    },
    {
     "cell_type": "code",
     "collapsed": false,
     "input": [
      "def bottom(df, column, n=5):\n",
      "    return df.sort_index(by=column, ascending=True)[:n]"
     ],
     "language": "python",
     "metadata": {},
     "outputs": [],
     "prompt_number": 6
    },
    {
     "cell_type": "code",
     "collapsed": false,
     "input": [
      "def topscore(df, value=60):\n",
      "    return df[df.Sentiment > value]"
     ],
     "language": "python",
     "metadata": {},
     "outputs": [],
     "prompt_number": 7
    },
    {
     "cell_type": "code",
     "collapsed": false,
     "input": [
      "df_business = pd.read_csv(\"result1.csv\",usecols = [\"Rid\", \"RDate\",\"Feature\",\"Sentence\",\"Sentiment\",\"Rating\"] )"
     ],
     "language": "python",
     "metadata": {},
     "outputs": [],
     "prompt_number": 8
    },
    {
     "cell_type": "heading",
     "level": 3,
     "metadata": {
      "slideshow": {
       "slide_type": "slide"
      }
     },
     "source": [
      "Extracted features from raw review corpus."
     ]
    },
    {
     "cell_type": "code",
     "collapsed": false,
     "input": [
      "#df_business.head(10).T.to_json()\n",
      "df_business.head(11)"
     ],
     "language": "python",
     "metadata": {
      "slideshow": {
       "slide_type": "slide"
      }
     },
     "outputs": [
      {
       "html": [
        "<div style=\"max-height:1000px;max-width:1500px;overflow:auto;\">\n",
        "<table border=\"1\" class=\"dataframe\">\n",
        "  <thead>\n",
        "    <tr style=\"text-align: right;\">\n",
        "      <th></th>\n",
        "      <th>Rid</th>\n",
        "      <th>RDate</th>\n",
        "      <th>Feature</th>\n",
        "      <th>Sentence</th>\n",
        "      <th>Sentiment</th>\n",
        "      <th>Rating</th>\n",
        "    </tr>\n",
        "  </thead>\n",
        "  <tbody>\n",
        "    <tr>\n",
        "      <th>0 </th>\n",
        "      <td> 1</td>\n",
        "      <td> 20/5/2013</td>\n",
        "      <td>         casing</td>\n",
        "      <td>            casing is very nice</td>\n",
        "      <td> 60</td>\n",
        "      <td> 0.8</td>\n",
        "    </tr>\n",
        "    <tr>\n",
        "      <th>1 </th>\n",
        "      <td> 1</td>\n",
        "      <td> 20/5/2013</td>\n",
        "      <td>         weight</td>\n",
        "      <td>                   light weight</td>\n",
        "      <td> 50</td>\n",
        "      <td> 0.8</td>\n",
        "    </tr>\n",
        "    <tr>\n",
        "      <th>2 </th>\n",
        "      <td> 1</td>\n",
        "      <td> 20/5/2013</td>\n",
        "      <td>         screen</td>\n",
        "      <td>                 screen is nice</td>\n",
        "      <td> 67</td>\n",
        "      <td> 0.8</td>\n",
        "    </tr>\n",
        "    <tr>\n",
        "      <th>3 </th>\n",
        "      <td> 1</td>\n",
        "      <td> 20/5/2013</td>\n",
        "      <td>       keyboard</td>\n",
        "      <td>            keyboard is perfect</td>\n",
        "      <td> 81</td>\n",
        "      <td> 0.8</td>\n",
        "    </tr>\n",
        "    <tr>\n",
        "      <th>4 </th>\n",
        "      <td> 1</td>\n",
        "      <td> 20/5/2013</td>\n",
        "      <td>       trackpad</td>\n",
        "      <td>           trackpad feels great</td>\n",
        "      <td> 58</td>\n",
        "      <td> 0.8</td>\n",
        "    </tr>\n",
        "    <tr>\n",
        "      <th>5 </th>\n",
        "      <td> 1</td>\n",
        "      <td> 20/5/2013</td>\n",
        "      <td>           edge</td>\n",
        "      <td>                 sharp-ish edge</td>\n",
        "      <td> 51</td>\n",
        "      <td> 0.8</td>\n",
        "    </tr>\n",
        "    <tr>\n",
        "      <th>6 </th>\n",
        "      <td> 1</td>\n",
        "      <td> 20/5/2013</td>\n",
        "      <td> graphics.audio</td>\n",
        "      <td> medium graphics.audio is great</td>\n",
        "      <td> 75</td>\n",
        "      <td> 0.8</td>\n",
        "    </tr>\n",
        "    <tr>\n",
        "      <th>7 </th>\n",
        "      <td> 1</td>\n",
        "      <td> 20/5/2013</td>\n",
        "      <td>        adapter</td>\n",
        "      <td>     ac adapter is standard yet</td>\n",
        "      <td> 31</td>\n",
        "      <td> 0.8</td>\n",
        "    </tr>\n",
        "    <tr>\n",
        "      <th>8 </th>\n",
        "      <td> 1</td>\n",
        "      <td> 20/5/2013</td>\n",
        "      <td>           disk</td>\n",
        "      <td>            disk tray is flimsy</td>\n",
        "      <td> 24</td>\n",
        "      <td> 0.8</td>\n",
        "    </tr>\n",
        "    <tr>\n",
        "      <th>9 </th>\n",
        "      <td> 1</td>\n",
        "      <td> 20/5/2013</td>\n",
        "      <td>           tray</td>\n",
        "      <td>            disk tray is flimsy</td>\n",
        "      <td> 24</td>\n",
        "      <td> 0.8</td>\n",
        "    </tr>\n",
        "    <tr>\n",
        "      <th>10</th>\n",
        "      <td> 2</td>\n",
        "      <td> 25/3/2013</td>\n",
        "      <td>         weight</td>\n",
        "      <td>                   light weight</td>\n",
        "      <td> 36</td>\n",
        "      <td> 0.8</td>\n",
        "    </tr>\n",
        "  </tbody>\n",
        "</table>\n",
        "<p>11 rows \u00d7 6 columns</p>\n",
        "</div>"
       ],
       "metadata": {},
       "output_type": "pyout",
       "prompt_number": 9,
       "text": [
        "    Rid      RDate         Feature                        Sentence  Sentiment  \\\n",
        "0     1  20/5/2013          casing             casing is very nice         60   \n",
        "1     1  20/5/2013          weight                    light weight         50   \n",
        "2     1  20/5/2013          screen                  screen is nice         67   \n",
        "3     1  20/5/2013        keyboard             keyboard is perfect         81   \n",
        "4     1  20/5/2013        trackpad            trackpad feels great         58   \n",
        "5     1  20/5/2013            edge                  sharp-ish edge         51   \n",
        "6     1  20/5/2013  graphics.audio  medium graphics.audio is great         75   \n",
        "7     1  20/5/2013         adapter      ac adapter is standard yet         31   \n",
        "8     1  20/5/2013            disk             disk tray is flimsy         24   \n",
        "9     1  20/5/2013            tray             disk tray is flimsy         24   \n",
        "10    2  25/3/2013          weight                    light weight         36   \n",
        "\n",
        "    Rating  \n",
        "0      0.8  \n",
        "1      0.8  \n",
        "2      0.8  \n",
        "3      0.8  \n",
        "4      0.8  \n",
        "5      0.8  \n",
        "6      0.8  \n",
        "7      0.8  \n",
        "8      0.8  \n",
        "9      0.8  \n",
        "10     0.8  \n",
        "\n",
        "[11 rows x 6 columns]"
       ]
      }
     ],
     "prompt_number": 9
    },
    {
     "cell_type": "code",
     "collapsed": false,
     "input": [
      "# for name, group in grouped_byrating:\n",
      "#     if name == max_rating:\n",
      "#         print name\n",
      "#         print set(group[\"Feature\"])\n",
      "        \n",
      "# for name, group in grouped_byrating:\n",
      "#     if name == min_rating:\n",
      "#         print name\n",
      "#         print set(group[\"Feature\"])        "
     ],
     "language": "python",
     "metadata": {
      "slideshow": {
       "slide_type": "-"
      }
     },
     "outputs": [],
     "prompt_number": 10
    },
    {
     "cell_type": "heading",
     "level": 2,
     "metadata": {},
     "source": [
      "Binning the sentiment with threee catagorical class."
     ]
    },
    {
     "cell_type": "code",
     "collapsed": false,
     "input": [
      "descriptions = ['Bad', 'Neutral', 'Good']\n",
      "bins = [-1, 40, 59, 100]\n",
      "\n",
      "scores = df_business['Sentiment'].copy()\n",
      "score_transform = df_business.copy()\n",
      "\n",
      "catagorical_scores = pd.cut(scores, bins ,labels=descriptions)"
     ],
     "language": "python",
     "metadata": {},
     "outputs": [],
     "prompt_number": 11
    },
    {
     "cell_type": "code",
     "collapsed": false,
     "input": [
      "score_transform['Sentiment'] = catagorical_scores"
     ],
     "language": "python",
     "metadata": {},
     "outputs": [],
     "prompt_number": 12
    },
    {
     "cell_type": "code",
     "collapsed": false,
     "input": [
      "score_transform.head(10)"
     ],
     "language": "python",
     "metadata": {
      "slideshow": {
       "slide_type": "-"
      }
     },
     "outputs": [
      {
       "html": [
        "<div style=\"max-height:1000px;max-width:1500px;overflow:auto;\">\n",
        "<table border=\"1\" class=\"dataframe\">\n",
        "  <thead>\n",
        "    <tr style=\"text-align: right;\">\n",
        "      <th></th>\n",
        "      <th>Rid</th>\n",
        "      <th>RDate</th>\n",
        "      <th>Feature</th>\n",
        "      <th>Sentence</th>\n",
        "      <th>Sentiment</th>\n",
        "      <th>Rating</th>\n",
        "    </tr>\n",
        "  </thead>\n",
        "  <tbody>\n",
        "    <tr>\n",
        "      <th>0</th>\n",
        "      <td> 1</td>\n",
        "      <td> 20/5/2013</td>\n",
        "      <td>         casing</td>\n",
        "      <td>            casing is very nice</td>\n",
        "      <td>    Good</td>\n",
        "      <td> 0.8</td>\n",
        "    </tr>\n",
        "    <tr>\n",
        "      <th>1</th>\n",
        "      <td> 1</td>\n",
        "      <td> 20/5/2013</td>\n",
        "      <td>         weight</td>\n",
        "      <td>                   light weight</td>\n",
        "      <td> Neutral</td>\n",
        "      <td> 0.8</td>\n",
        "    </tr>\n",
        "    <tr>\n",
        "      <th>2</th>\n",
        "      <td> 1</td>\n",
        "      <td> 20/5/2013</td>\n",
        "      <td>         screen</td>\n",
        "      <td>                 screen is nice</td>\n",
        "      <td>    Good</td>\n",
        "      <td> 0.8</td>\n",
        "    </tr>\n",
        "    <tr>\n",
        "      <th>3</th>\n",
        "      <td> 1</td>\n",
        "      <td> 20/5/2013</td>\n",
        "      <td>       keyboard</td>\n",
        "      <td>            keyboard is perfect</td>\n",
        "      <td>    Good</td>\n",
        "      <td> 0.8</td>\n",
        "    </tr>\n",
        "    <tr>\n",
        "      <th>4</th>\n",
        "      <td> 1</td>\n",
        "      <td> 20/5/2013</td>\n",
        "      <td>       trackpad</td>\n",
        "      <td>           trackpad feels great</td>\n",
        "      <td> Neutral</td>\n",
        "      <td> 0.8</td>\n",
        "    </tr>\n",
        "    <tr>\n",
        "      <th>5</th>\n",
        "      <td> 1</td>\n",
        "      <td> 20/5/2013</td>\n",
        "      <td>           edge</td>\n",
        "      <td>                 sharp-ish edge</td>\n",
        "      <td> Neutral</td>\n",
        "      <td> 0.8</td>\n",
        "    </tr>\n",
        "    <tr>\n",
        "      <th>6</th>\n",
        "      <td> 1</td>\n",
        "      <td> 20/5/2013</td>\n",
        "      <td> graphics.audio</td>\n",
        "      <td> medium graphics.audio is great</td>\n",
        "      <td>    Good</td>\n",
        "      <td> 0.8</td>\n",
        "    </tr>\n",
        "    <tr>\n",
        "      <th>7</th>\n",
        "      <td> 1</td>\n",
        "      <td> 20/5/2013</td>\n",
        "      <td>        adapter</td>\n",
        "      <td>     ac adapter is standard yet</td>\n",
        "      <td>     Bad</td>\n",
        "      <td> 0.8</td>\n",
        "    </tr>\n",
        "    <tr>\n",
        "      <th>8</th>\n",
        "      <td> 1</td>\n",
        "      <td> 20/5/2013</td>\n",
        "      <td>           disk</td>\n",
        "      <td>            disk tray is flimsy</td>\n",
        "      <td>     Bad</td>\n",
        "      <td> 0.8</td>\n",
        "    </tr>\n",
        "    <tr>\n",
        "      <th>9</th>\n",
        "      <td> 1</td>\n",
        "      <td> 20/5/2013</td>\n",
        "      <td>           tray</td>\n",
        "      <td>            disk tray is flimsy</td>\n",
        "      <td>     Bad</td>\n",
        "      <td> 0.8</td>\n",
        "    </tr>\n",
        "  </tbody>\n",
        "</table>\n",
        "<p>10 rows \u00d7 6 columns</p>\n",
        "</div>"
       ],
       "metadata": {},
       "output_type": "pyout",
       "prompt_number": 13,
       "text": [
        "   Rid      RDate         Feature                        Sentence Sentiment  \\\n",
        "0    1  20/5/2013          casing             casing is very nice      Good   \n",
        "1    1  20/5/2013          weight                    light weight   Neutral   \n",
        "2    1  20/5/2013          screen                  screen is nice      Good   \n",
        "3    1  20/5/2013        keyboard             keyboard is perfect      Good   \n",
        "4    1  20/5/2013        trackpad            trackpad feels great   Neutral   \n",
        "5    1  20/5/2013            edge                  sharp-ish edge   Neutral   \n",
        "6    1  20/5/2013  graphics.audio  medium graphics.audio is great      Good   \n",
        "7    1  20/5/2013         adapter      ac adapter is standard yet       Bad   \n",
        "8    1  20/5/2013            disk             disk tray is flimsy       Bad   \n",
        "9    1  20/5/2013            tray             disk tray is flimsy       Bad   \n",
        "\n",
        "   Rating  \n",
        "0     0.8  \n",
        "1     0.8  \n",
        "2     0.8  \n",
        "3     0.8  \n",
        "4     0.8  \n",
        "5     0.8  \n",
        "6     0.8  \n",
        "7     0.8  \n",
        "8     0.8  \n",
        "9     0.8  \n",
        "\n",
        "[10 rows x 6 columns]"
       ]
      }
     ],
     "prompt_number": 13
    },
    {
     "cell_type": "heading",
     "level": 2,
     "metadata": {
      "slideshow": {
       "slide_type": "slide"
      }
     },
     "source": [
      "What % of customers declare their loyalty?"
     ]
    },
    {
     "cell_type": "code",
     "collapsed": false,
     "input": [
      "df_loyalty = pd.read_csv(\"loyalty.csv\",usecols = [\"Rid\", \"RDate\",\"Sentence\",\"Sentiment\",\"Rating\",\"Loyalty\"])"
     ],
     "language": "python",
     "metadata": {},
     "outputs": [],
     "prompt_number": 14
    },
    {
     "cell_type": "code",
     "collapsed": false,
     "input": [
      "# temp2 = df_loyalty.groupby(\"Rid\").apply(lambda x : x.sort_index(by='Loyalty', ascending=False)[:1])[[\"Rid\",\"Loyalty\"]]\n",
      "# temp2[temp2.Loyalty==0].count()"
     ],
     "language": "python",
     "metadata": {},
     "outputs": [],
     "prompt_number": 15
    },
    {
     "cell_type": "code",
     "collapsed": false,
     "input": [
      "grouped_byloyalty = df_loyalty.groupby(\"Loyalty\")"
     ],
     "language": "python",
     "metadata": {},
     "outputs": [],
     "prompt_number": 16
    },
    {
     "cell_type": "code",
     "collapsed": false,
     "input": [
      "temp = df_loyalty.groupby(\"Rid\").apply(distinct, column='Loyalty')[[\"Rid\",\"Loyalty\"]]"
     ],
     "language": "python",
     "metadata": {},
     "outputs": [],
     "prompt_number": 17
    },
    {
     "cell_type": "code",
     "collapsed": false,
     "input": [
      "#temp.Loyalty.hist()"
     ],
     "language": "python",
     "metadata": {
      "slideshow": {
       "slide_type": "-"
      }
     },
     "outputs": [],
     "prompt_number": 18
    },
    {
     "cell_type": "code",
     "collapsed": false,
     "input": [
      "plt.pie([temp.Loyalty[temp.Loyalty == 1].count(), temp.Loyalty[temp.Loyalty == 0].count()], labels=['Loyalty Declared (20)','Not Declared (100)'])"
     ],
     "language": "python",
     "metadata": {
      "slideshow": {
       "slide_type": "slide"
      }
     },
     "outputs": [
      {
       "metadata": {},
       "output_type": "pyout",
       "prompt_number": 19,
       "text": [
        "([<matplotlib.patches.Wedge at 0x7f5200349e50>,\n",
        "  <matplotlib.patches.Wedge at 0x7f5200357910>],\n",
        " [<matplotlib.text.Text at 0x7f5200357390>,\n",
        "  <matplotlib.text.Text at 0x7f5200357e90>])"
       ]
      },
      {
       "metadata": {},
       "output_type": "display_data",
       "png": "[encoded data removed]",
       "text": [
        "<matplotlib.figure.Figure at 0x7f5200450b50>"
       ]
      }
     ],
     "prompt_number": 19
    },
    {
     "cell_type": "code",
     "collapsed": false,
     "input": [
      "#df_loyalty.Loyalty.value_counts()"
     ],
     "language": "python",
     "metadata": {},
     "outputs": [],
     "prompt_number": 20
    },
    {
     "cell_type": "code",
     "collapsed": false,
     "input": [
      "#df_loyalty[df_loyalty.Loyalty == 1]"
     ],
     "language": "python",
     "metadata": {
      "slideshow": {
       "slide_type": "-"
      }
     },
     "outputs": [],
     "prompt_number": 21
    },
    {
     "cell_type": "heading",
     "level": 2,
     "metadata": {
      "slideshow": {
       "slide_type": "slide"
      }
     },
     "source": [
      "What features are prominent for this (Loyalty) audience?"
     ]
    },
    {
     "cell_type": "raw",
     "metadata": {},
     "source": [
      "Loyal Users:"
     ]
    },
    {
     "cell_type": "code",
     "collapsed": false,
     "input": [
      "\n",
      "userid = df_loyalty[df_loyalty.Loyalty == 1].xs(\"Rid\", axis=1)"
     ],
     "language": "python",
     "metadata": {},
     "outputs": [],
     "prompt_number": 22
    },
    {
     "cell_type": "code",
     "collapsed": false,
     "input": [
      "df_loyalty_records = df_business1[df_business['Rid'].isin(userid)]"
     ],
     "language": "python",
     "metadata": {},
     "outputs": [
      {
       "ename": "NameError",
       "evalue": "name 'df_business1' is not defined",
       "output_type": "pyerr",
       "traceback": [
        "\u001b[1;31m---------------------------------------------------------------------------\u001b[0m\n\u001b[1;31mNameError\u001b[0m                                 Traceback (most recent call last)",
        "\u001b[1;32m<ipython-input-23-5ade2559f1a0>\u001b[0m in \u001b[0;36m<module>\u001b[1;34m()\u001b[0m\n\u001b[1;32m----> 1\u001b[1;33m \u001b[0mdf_loyalty_records\u001b[0m \u001b[1;33m=\u001b[0m \u001b[0mdf_business1\u001b[0m\u001b[1;33m[\u001b[0m\u001b[0mdf_business\u001b[0m\u001b[1;33m[\u001b[0m\u001b[1;34m'Rid'\u001b[0m\u001b[1;33m]\u001b[0m\u001b[1;33m.\u001b[0m\u001b[0misin\u001b[0m\u001b[1;33m(\u001b[0m\u001b[0muserid\u001b[0m\u001b[1;33m)\u001b[0m\u001b[1;33m]\u001b[0m\u001b[1;33m\u001b[0m\u001b[0m\n\u001b[0m",
        "\u001b[1;31mNameError\u001b[0m: name 'df_business1' is not defined"
       ]
      }
     ],
     "prompt_number": 23
    },
    {
     "cell_type": "code",
     "collapsed": false,
     "input": [
      "df_loyalty_records"
     ],
     "language": "python",
     "metadata": {
      "slideshow": {
       "slide_type": "-"
      }
     },
     "outputs": []
    },
    {
     "cell_type": "code",
     "collapsed": false,
     "input": [
      "df_loyalty_recs_grouped = df_loyalty_records.groupby([\"Feature\"]).apply(topscore, value=50)[[\"Sentence\",\"Sentiment\"]]"
     ],
     "language": "python",
     "metadata": {},
     "outputs": []
    },
    {
     "cell_type": "code",
     "collapsed": false,
     "input": [
      "df_loyalty_recs_grouped.head()"
     ],
     "language": "python",
     "metadata": {
      "slideshow": {
       "slide_type": "slide"
      }
     },
     "outputs": []
    },
    {
     "cell_type": "heading",
     "level": 2,
     "metadata": {
      "slideshow": {
       "slide_type": "slide"
      }
     },
     "source": [
      "What more does customer want? "
     ]
    },
    {
     "cell_type": "code",
     "collapsed": false,
     "input": [
      "df_wish = pd.read_csv(\"wish.csv\",usecols = [\"Rid\", \"RDate\",\"Feature\",\"Sentence\"]  )"
     ],
     "language": "python",
     "metadata": {},
     "outputs": []
    },
    {
     "cell_type": "code",
     "collapsed": false,
     "input": [
      "df_wish"
     ],
     "language": "python",
     "metadata": {},
     "outputs": []
    },
    {
     "cell_type": "code",
     "collapsed": false,
     "input": [
      "pd.options.display.max_colwidth = 200"
     ],
     "language": "python",
     "metadata": {},
     "outputs": []
    },
    {
     "cell_type": "code",
     "collapsed": false,
     "input": [
      "temp1 = df_wish.groupby(\"Rid\").apply(distinct, column='Sentence')[[\"Sentence\"]]"
     ],
     "language": "python",
     "metadata": {},
     "outputs": []
    },
    {
     "cell_type": "code",
     "collapsed": false,
     "input": [
      "temp1.head()"
     ],
     "language": "python",
     "metadata": {
      "slideshow": {
       "slide_type": "slide"
      }
     },
     "outputs": []
    },
    {
     "cell_type": "heading",
     "level": 2,
     "metadata": {
      "slideshow": {
       "slide_type": "slide"
      }
     },
     "source": [
      "What is the rating distribution? How many rate 5/5, 4/5\u20261/5?"
     ]
    },
    {
     "cell_type": "code",
     "collapsed": false,
     "input": [
      "df_main = pd.read_csv(\"customer_review.csv\", usecols = [\"Source Date\", \"Customer Verbatim\",\"Rating\"] )\n",
      "temp2 = df_main['Rating'].str[0].astype(int)\n",
      "df_main.Rating = temp2\n",
      "temp3 = df_main.groupby('Rating')['Rating'].count()\n",
      "temp3.to_json()"
     ],
     "language": "python",
     "metadata": {},
     "outputs": []
    },
    {
     "cell_type": "code",
     "collapsed": false,
     "input": [
      "temp2.hist(grid=False)\n",
      "plt.xlabel('Rating in x out of 5')\n",
      "plt.ylabel('No of users')"
     ],
     "language": "python",
     "metadata": {
      "slideshow": {
       "slide_type": "slide"
      }
     },
     "outputs": []
    },
    {
     "cell_type": "heading",
     "level": 2,
     "metadata": {
      "slideshow": {
       "slide_type": "slide"
      }
     },
     "source": [
      "What feature pairs or groups are more likely to be spoken of together? "
     ]
    },
    {
     "cell_type": "code",
     "collapsed": false,
     "input": [
      "setlst = []\n",
      "totdict = defaultdict(int)\n",
      "\n",
      "grouped_byreview = df_business.groupby('Rid')\n",
      "\n",
      "#for each reivew ensure we take set[] of features\n",
      "for name, group in grouped_byreview:\n",
      "    setlst.append(set(group[\"Feature\"]))\n",
      "\n",
      "#run n-gram analysis to find whihc set[] features were spoken    \n",
      "for s1 in setlst:\n",
      "    for s2 in setlst:\n",
      "        if (s1.issubset(s2) and len(s1) > 1):\n",
      "            totdict[str(s1)] += 1\n",
      "\n",
      "print json.dumps(totdict, indent=4)"
     ],
     "language": "python",
     "metadata": {},
     "outputs": []
    },
    {
     "cell_type": "code",
     "collapsed": false,
     "input": [
      "keys = [x[5:-2].replace(\"'\", \"\") for x in totdict.keys()]"
     ],
     "language": "python",
     "metadata": {},
     "outputs": []
    },
    {
     "cell_type": "code",
     "collapsed": false,
     "input": [
      "f_series = pd.Series(totdict.values(), index=keys)\n"
     ],
     "language": "python",
     "metadata": {},
     "outputs": []
    },
    {
     "cell_type": "code",
     "collapsed": false,
     "input": [
      "f_series.plot(kind='barh',figsize=(12, 15))"
     ],
     "language": "python",
     "metadata": {
      "slideshow": {
       "slide_type": "slide"
      }
     },
     "outputs": []
    },
    {
     "cell_type": "code",
     "collapsed": false,
     "input": [
      "#HTML('<iframe src=Index.html width=1000 height=500></iframe>')\n",
      "IFrame('index.html', width=\"100%\", height=400)"
     ],
     "language": "python",
     "metadata": {
      "slideshow": {
       "slide_type": "slide"
      }
     },
     "outputs": []
    },
    {
     "cell_type": "code",
     "collapsed": false,
     "input": [
      "#f_series[f_series>1].plot(kind='barh',figsize=(12, 15))"
     ],
     "language": "python",
     "metadata": {
      "slideshow": {
       "slide_type": "-"
      }
     },
     "outputs": []
    },
    {
     "cell_type": "heading",
     "level": 2,
     "metadata": {
      "slideshow": {
       "slide_type": "slide"
      }
     },
     "source": [
      "What features contribute to a high rating?"
     ]
    },
    {
     "cell_type": "code",
     "collapsed": false,
     "input": [
      "grouped_byrating = df_business.groupby('Rating')\n",
      "grouped_byrating_top_features = grouped_byrating.apply(top, column='Sentiment', n=3)[['Feature', 'Sentiment']]"
     ],
     "language": "python",
     "metadata": {},
     "outputs": [],
     "prompt_number": 24
    },
    {
     "cell_type": "code",
     "collapsed": false,
     "input": [
      "grouped_byrating_top_features"
     ],
     "language": "python",
     "metadata": {},
     "outputs": [
      {
       "html": [
        "<div style=\"max-height:1000px;max-width:1500px;overflow:auto;\">\n",
        "<table border=\"1\" class=\"dataframe\">\n",
        "  <thead>\n",
        "    <tr style=\"text-align: right;\">\n",
        "      <th></th>\n",
        "      <th></th>\n",
        "      <th>Feature</th>\n",
        "      <th>Sentiment</th>\n",
        "    </tr>\n",
        "    <tr>\n",
        "      <th>Rating</th>\n",
        "      <th></th>\n",
        "      <th></th>\n",
        "      <th></th>\n",
        "    </tr>\n",
        "  </thead>\n",
        "  <tbody>\n",
        "    <tr>\n",
        "      <th rowspan=\"3\" valign=\"top\">0.2</th>\n",
        "      <th>75 </th>\n",
        "      <td>    weight</td>\n",
        "      <td> 57</td>\n",
        "    </tr>\n",
        "    <tr>\n",
        "      <th>72 </th>\n",
        "      <td>    screen</td>\n",
        "      <td> 57</td>\n",
        "    </tr>\n",
        "    <tr>\n",
        "      <th>88 </th>\n",
        "      <td>   battery</td>\n",
        "      <td> 54</td>\n",
        "    </tr>\n",
        "    <tr>\n",
        "      <th>0.4</th>\n",
        "      <th>101</th>\n",
        "      <td>    keypad</td>\n",
        "      <td> 61</td>\n",
        "    </tr>\n",
        "    <tr>\n",
        "      <th rowspan=\"3\" valign=\"top\">0.6</th>\n",
        "      <th>89 </th>\n",
        "      <td>   battery</td>\n",
        "      <td> 62</td>\n",
        "    </tr>\n",
        "    <tr>\n",
        "      <th>90 </th>\n",
        "      <td>   display</td>\n",
        "      <td> 57</td>\n",
        "    </tr>\n",
        "    <tr>\n",
        "      <th>93 </th>\n",
        "      <td>  software</td>\n",
        "      <td> 44</td>\n",
        "    </tr>\n",
        "    <tr>\n",
        "      <th rowspan=\"3\" valign=\"top\">0.8</th>\n",
        "      <th>18 </th>\n",
        "      <td>  keyboard</td>\n",
        "      <td> 84</td>\n",
        "    </tr>\n",
        "    <tr>\n",
        "      <th>19 </th>\n",
        "      <td>  keyboard</td>\n",
        "      <td> 84</td>\n",
        "    </tr>\n",
        "    <tr>\n",
        "      <th>3  </th>\n",
        "      <td>  keyboard</td>\n",
        "      <td> 81</td>\n",
        "    </tr>\n",
        "    <tr>\n",
        "      <th rowspan=\"3\" valign=\"top\">0.9</th>\n",
        "      <th>28 </th>\n",
        "      <td>  keyboard</td>\n",
        "      <td> 69</td>\n",
        "    </tr>\n",
        "    <tr>\n",
        "      <th>37 </th>\n",
        "      <td>  keyboard</td>\n",
        "      <td> 60</td>\n",
        "    </tr>\n",
        "    <tr>\n",
        "      <th>36 </th>\n",
        "      <td>    screen</td>\n",
        "      <td> 60</td>\n",
        "    </tr>\n",
        "    <tr>\n",
        "      <th rowspan=\"3\" valign=\"top\">1.0</th>\n",
        "      <th>123</th>\n",
        "      <td>   display</td>\n",
        "      <td> 96</td>\n",
        "    </tr>\n",
        "    <tr>\n",
        "      <th>122</th>\n",
        "      <td> processor</td>\n",
        "      <td> 96</td>\n",
        "    </tr>\n",
        "    <tr>\n",
        "      <th>14 </th>\n",
        "      <td>    button</td>\n",
        "      <td> 45</td>\n",
        "    </tr>\n",
        "  </tbody>\n",
        "</table>\n",
        "<p>16 rows \u00d7 2 columns</p>\n",
        "</div>"
       ],
       "metadata": {},
       "output_type": "pyout",
       "prompt_number": 25,
       "text": [
        "              Feature  Sentiment\n",
        "Rating                          \n",
        "0.2    75      weight         57\n",
        "       72      screen         57\n",
        "       88     battery         54\n",
        "0.4    101     keypad         61\n",
        "0.6    89     battery         62\n",
        "       90     display         57\n",
        "       93    software         44\n",
        "0.8    18    keyboard         84\n",
        "       19    keyboard         84\n",
        "       3     keyboard         81\n",
        "0.9    28    keyboard         69\n",
        "       37    keyboard         60\n",
        "       36      screen         60\n",
        "1.0    123    display         96\n",
        "       122  processor         96\n",
        "       14      button         45\n",
        "\n",
        "[16 rows x 2 columns]"
       ]
      }
     ],
     "prompt_number": 25
    },
    {
     "cell_type": "heading",
     "level": 2,
     "metadata": {
      "slideshow": {
       "slide_type": "slide"
      }
     },
     "source": [
      "What features contribute to a low rating?"
     ]
    },
    {
     "cell_type": "code",
     "collapsed": false,
     "input": [
      "grouped_byrating_bottom_features = grouped_byrating.apply(bottom, column='Sentiment', n=3)[['Feature', 'Sentiment']]"
     ],
     "language": "python",
     "metadata": {},
     "outputs": [],
     "prompt_number": 26
    },
    {
     "cell_type": "code",
     "collapsed": false,
     "input": [
      "grouped_byrating_bottom_features"
     ],
     "language": "python",
     "metadata": {
      "slideshow": {
       "slide_type": "slide"
      }
     },
     "outputs": [
      {
       "html": [
        "<div style=\"max-height:1000px;max-width:1500px;overflow:auto;\">\n",
        "<table border=\"1\" class=\"dataframe\">\n",
        "  <thead>\n",
        "    <tr style=\"text-align: right;\">\n",
        "      <th></th>\n",
        "      <th></th>\n",
        "      <th>Feature</th>\n",
        "      <th>Sentiment</th>\n",
        "    </tr>\n",
        "    <tr>\n",
        "      <th>Rating</th>\n",
        "      <th></th>\n",
        "      <th></th>\n",
        "      <th></th>\n",
        "    </tr>\n",
        "  </thead>\n",
        "  <tbody>\n",
        "    <tr>\n",
        "      <th rowspan=\"3\" valign=\"top\">0.2</th>\n",
        "      <th>16 </th>\n",
        "      <td>      screen</td>\n",
        "      <td>  4</td>\n",
        "    </tr>\n",
        "    <tr>\n",
        "      <th>17 </th>\n",
        "      <td>    keyboard</td>\n",
        "      <td>  4</td>\n",
        "    </tr>\n",
        "    <tr>\n",
        "      <th>82 </th>\n",
        "      <td>    touchpad</td>\n",
        "      <td> 27</td>\n",
        "    </tr>\n",
        "    <tr>\n",
        "      <th>0.4</th>\n",
        "      <th>101</th>\n",
        "      <td>      keypad</td>\n",
        "      <td> 61</td>\n",
        "    </tr>\n",
        "    <tr>\n",
        "      <th rowspan=\"3\" valign=\"top\">0.6</th>\n",
        "      <th>71 </th>\n",
        "      <td>      screen</td>\n",
        "      <td> 17</td>\n",
        "    </tr>\n",
        "    <tr>\n",
        "      <th>91 </th>\n",
        "      <td>        plug</td>\n",
        "      <td> 32</td>\n",
        "    </tr>\n",
        "    <tr>\n",
        "      <th>92 </th>\n",
        "      <td>        disk</td>\n",
        "      <td> 34</td>\n",
        "    </tr>\n",
        "    <tr>\n",
        "      <th rowspan=\"3\" valign=\"top\">0.8</th>\n",
        "      <th>38 </th>\n",
        "      <td>      screen</td>\n",
        "      <td>  3</td>\n",
        "    </tr>\n",
        "    <tr>\n",
        "      <th>58 </th>\n",
        "      <td>      button</td>\n",
        "      <td>  5</td>\n",
        "    </tr>\n",
        "    <tr>\n",
        "      <th>27 </th>\n",
        "      <td>    keyboard</td>\n",
        "      <td>  6</td>\n",
        "    </tr>\n",
        "    <tr>\n",
        "      <th rowspan=\"3\" valign=\"top\">0.9</th>\n",
        "      <th>35 </th>\n",
        "      <td>     adapter</td>\n",
        "      <td> 22</td>\n",
        "    </tr>\n",
        "    <tr>\n",
        "      <th>32 </th>\n",
        "      <td>     adapter</td>\n",
        "      <td> 23</td>\n",
        "    </tr>\n",
        "    <tr>\n",
        "      <th>33 </th>\n",
        "      <td>        card</td>\n",
        "      <td> 23</td>\n",
        "    </tr>\n",
        "    <tr>\n",
        "      <th rowspan=\"3\" valign=\"top\">1.0</th>\n",
        "      <th>125</th>\n",
        "      <td>   processor</td>\n",
        "      <td> 13</td>\n",
        "    </tr>\n",
        "    <tr>\n",
        "      <th>62 </th>\n",
        "      <td> touchscreen</td>\n",
        "      <td> 17</td>\n",
        "    </tr>\n",
        "    <tr>\n",
        "      <th>61 </th>\n",
        "      <td>         fan</td>\n",
        "      <td> 23</td>\n",
        "    </tr>\n",
        "  </tbody>\n",
        "</table>\n",
        "<p>16 rows \u00d7 2 columns</p>\n",
        "</div>"
       ],
       "metadata": {},
       "output_type": "pyout",
       "prompt_number": 27,
       "text": [
        "                Feature  Sentiment\n",
        "Rating                            \n",
        "0.2    16        screen          4\n",
        "       17      keyboard          4\n",
        "       82      touchpad         27\n",
        "0.4    101       keypad         61\n",
        "0.6    71        screen         17\n",
        "       91          plug         32\n",
        "       92          disk         34\n",
        "0.8    38        screen          3\n",
        "       58        button          5\n",
        "       27      keyboard          6\n",
        "0.9    35       adapter         22\n",
        "       32       adapter         23\n",
        "       33          card         23\n",
        "1.0    125    processor         13\n",
        "       62   touchscreen         17\n",
        "       61           fan         23\n",
        "\n",
        "[16 rows x 2 columns]"
       ]
      }
     ],
     "prompt_number": 27
    },
    {
     "cell_type": "code",
     "collapsed": false,
     "input": [
      "def plot_view(f1=0):\n",
      "    f = f_series[f_series>f1].plot(kind='barh',figsize=(12, 15))\n",
      "    return f"
     ],
     "language": "python",
     "metadata": {},
     "outputs": [],
     "prompt_number": 28
    },
    {
     "cell_type": "code",
     "collapsed": false,
     "input": [
      "v = interactive(plot_view, f1=(0,100))\n",
      "display(v)"
     ],
     "language": "python",
     "metadata": {},
     "outputs": [
      {
       "ename": "NameError",
       "evalue": "global name 'f_series' is not defined",
       "output_type": "pyerr",
       "traceback": [
        "\u001b[1;31m---------------------------------------------------------------------------\u001b[0m\n\u001b[1;31mNameError\u001b[0m                                 Traceback (most recent call last)",
        "\u001b[1;32m<ipython-input-28-f50b8c37f823>\u001b[0m in \u001b[0;36mplot_view\u001b[1;34m(f1)\u001b[0m\n\u001b[0;32m      1\u001b[0m \u001b[1;32mdef\u001b[0m \u001b[0mplot_view\u001b[0m\u001b[1;33m(\u001b[0m\u001b[0mf1\u001b[0m\u001b[1;33m=\u001b[0m\u001b[1;36m0\u001b[0m\u001b[1;33m)\u001b[0m\u001b[1;33m:\u001b[0m\u001b[1;33m\u001b[0m\u001b[0m\n\u001b[1;32m----> 2\u001b[1;33m     \u001b[0mf\u001b[0m \u001b[1;33m=\u001b[0m \u001b[0mf_series\u001b[0m\u001b[1;33m[\u001b[0m\u001b[0mf_series\u001b[0m\u001b[1;33m>\u001b[0m\u001b[0mf1\u001b[0m\u001b[1;33m]\u001b[0m\u001b[1;33m.\u001b[0m\u001b[0mplot\u001b[0m\u001b[1;33m(\u001b[0m\u001b[0mkind\u001b[0m\u001b[1;33m=\u001b[0m\u001b[1;34m'barh'\u001b[0m\u001b[1;33m,\u001b[0m\u001b[0mfigsize\u001b[0m\u001b[1;33m=\u001b[0m\u001b[1;33m(\u001b[0m\u001b[1;36m12\u001b[0m\u001b[1;33m,\u001b[0m \u001b[1;36m15\u001b[0m\u001b[1;33m)\u001b[0m\u001b[1;33m)\u001b[0m\u001b[1;33m\u001b[0m\u001b[0m\n\u001b[0m\u001b[0;32m      3\u001b[0m     \u001b[1;32mreturn\u001b[0m \u001b[0mf\u001b[0m\u001b[1;33m\u001b[0m\u001b[0m\n",
        "\u001b[1;31mNameError\u001b[0m: global name 'f_series' is not defined"
       ]
      }
     ],
     "prompt_number": 29
    },
    {
     "cell_type": "heading",
     "level": 1,
     "metadata": {
      "slideshow": {
       "slide_type": "slide"
      }
     },
     "source": [
      "End"
     ]
    },
    {
     "cell_type": "heading",
     "level": 3,
     "metadata": {
      "slideshow": {
       "slide_type": "slide"
      }
     },
     "source": [
      "Customer review volume against feature"
     ]
    },
    {
     "cell_type": "code",
     "collapsed": false,
     "input": [
      "review_count = df_business.sort('Feature', ascending=1).groupby(['Feature']).Rid.nunique()\n",
      "#temp.to_json()"
     ],
     "language": "python",
     "metadata": {},
     "outputs": [],
     "prompt_number": 30
    },
    {
     "cell_type": "code",
     "collapsed": false,
     "input": [
      "review_count.plot(kind='barh',figsize=(12, 15))"
     ],
     "language": "python",
     "metadata": {
      "slideshow": {
       "slide_type": "slide"
      }
     },
     "outputs": [
      {
       "metadata": {},
       "output_type": "pyout",
       "prompt_number": 31,
       "text": [
        "<matplotlib.axes.AxesSubplot at 0x7f5200400f50>"
       ]
      },
      {
       "metadata": {},
       "output_type": "display_data",
       "png": "[encoded data removed]",
       "text": [
        "<matplotlib.figure.Figure at 0x7f520886d690>"
       ]
      }
     ],
     "prompt_number": 31
    },
    {
     "cell_type": "code",
     "collapsed": false,
     "input": [
      "sentiment_mean = df_business.sort('Feature', ascending=1).groupby(['Feature']).Sentiment.mean()"
     ],
     "language": "python",
     "metadata": {},
     "outputs": [],
     "prompt_number": 32
    },
    {
     "cell_type": "code",
     "collapsed": false,
     "input": [
      "#Merge both column in to one DataFrame\n",
      "df = pd.DataFrame(review_count)\n",
      "df['mean'] = sentiment_mean\n",
      "df.to_json()"
     ],
     "language": "python",
     "metadata": {},
     "outputs": [
      {
       "metadata": {},
       "output_type": "pyout",
       "prompt_number": 33,
       "text": [
        "'{\"0\":{\"adapter\":2.0,\"backlight\":1.0,\"battery\":5.0,\"button\":3.0,\"camera\":1.0,\"card\":1.0,\"casing\":1.0,\"cd\":1.0,\"charge\":1.0,\"cpu\":1.0,\"disk\":2.0,\"display\":5.0,\"driver\":1.0,\"dvd\":1.0,\"edge\":1.0,\"fan\":2.0,\"finger\":1.0,\"graphics.audio\":1.0,\"keyboard\":10.0,\"keypad\":1.0,\"memory\":2.0,\"mouse\":2.0,\"pad\":6.0,\"pad.without\":1.0,\"picture\":1.0,\"plug\":1.0,\"power\":4.0,\"processor\":2.0,\"ram\":2.0,\"screen\":17.0,\"scroll\":1.0,\"software\":4.0,\"sound\":5.0,\"touch\":6.0,\"touchpad\":1.0,\"touchscreen\":1.0,\"trackpad\":3.0,\"tray\":1.0,\"usb\":1.0,\"webcam\":1.0,\"weight\":7.0,\"wireless\":2.0},\"mean\":{\"adapter\":25.3333333333,\"backlight\":57.0,\"battery\":43.0,\"button\":24.6666666667,\"camera\":47.0,\"card\":23.0,\"casing\":60.0,\"cd\":10.0,\"charge\":52.0,\"cpu\":32.0,\"disk\":29.0,\"display\":65.2,\"driver\":44.0,\"dvd\":36.0,\"edge\":51.0,\"fan\":17.5,\"finger\":16.0,\"graphics.audio\":75.0,\"keyboard\":49.6428571429,\"keypad\":61.0,\"memory\":53.5,\"mouse\":40.3333333333,\"pad\":39.5,\"pad.without\":14.0,\"picture\":50.0,\"plug\":32.0,\"power\":30.5,\"processor\":50.6666666667,\"ram\":45.5,\"screen\":40.9523809524,\"scroll\":18.0,\"software\":46.5,\"sound\":45.2,\"touch\":43.6666666667,\"touchpad\":27.0,\"touchscreen\":17.0,\"trackpad\":46.6666666667,\"tray\":24.0,\"usb\":12.0,\"webcam\":12.0,\"weight\":48.4285714286,\"wireless\":42.5}}'"
       ]
      }
     ],
     "prompt_number": 33
    },
    {
     "cell_type": "code",
     "collapsed": false,
     "input": [],
     "language": "python",
     "metadata": {},
     "outputs": [],
     "prompt_number": 33
    },
    {
     "cell_type": "heading",
     "level": 3,
     "metadata": {
      "slideshow": {
       "slide_type": "slide"
      }
     },
     "source": [
      "Review volume vs mean sentiment"
     ]
    },
    {
     "cell_type": "code",
     "collapsed": false,
     "input": [
      "fig = plt.figure(figsize=(12,5))\n",
      "ax = review_count.plot(kind='bar', use_index=True)\n",
      "ax2 = ax.twinx()\n",
      "ax2.plot(ax.get_xticks(),sentiment_mean,linestyle='-',marker='o',linewidth=2.0, color='green')"
     ],
     "language": "python",
     "metadata": {
      "slideshow": {
       "slide_type": "slide"
      }
     },
     "outputs": [
      {
       "metadata": {},
       "output_type": "pyout",
       "prompt_number": 34,
       "text": [
        "[<matplotlib.lines.Line2D at 0x7f51fe0bd910>]"
       ]
      },
      {
       "metadata": {},
       "output_type": "display_data",
       "png": "[encoded data removed]",
       "text": [
        "<matplotlib.figure.Figure at 0x7f51fe21b1d0>"
       ]
      }
     ],
     "prompt_number": 34
    },
    {
     "cell_type": "heading",
     "level": 3,
     "metadata": {
      "slideshow": {
       "slide_type": "slide"
      }
     },
     "source": [
      "Outlier features"
     ]
    },
    {
     "cell_type": "code",
     "collapsed": false,
     "input": [
      "df_outlier = pd.read_csv(\"outlierfeature.csv\", usecols = [\"Sentence\"] )"
     ],
     "language": "python",
     "metadata": {},
     "outputs": [],
     "prompt_number": 35
    },
    {
     "cell_type": "code",
     "collapsed": false,
     "input": [
      "pd.options.display.max_colwidth = 200\n",
      "df_outlier"
     ],
     "language": "python",
     "metadata": {
      "slideshow": {
       "slide_type": "slide"
      }
     },
     "outputs": [
      {
       "html": [
        "<div style=\"max-height:1000px;max-width:1500px;overflow:auto;\">\n",
        "<table border=\"1\" class=\"dataframe\">\n",
        "  <thead>\n",
        "    <tr style=\"text-align: right;\">\n",
        "      <th></th>\n",
        "      <th>Sentence</th>\n",
        "    </tr>\n",
        "  </thead>\n",
        "  <tbody>\n",
        "    <tr>\n",
        "      <th>0 </th>\n",
        "      <td>                                                                                                                   get windows 8 pro for the extra security (bitlocker), extra speed, and accessibility.</td>\n",
        "    </tr>\n",
        "    <tr>\n",
        "      <th>1 </th>\n",
        "      <td>                                                                                                 windows 8 has offered its challenges, but as we learn the  notricks', it is getting much more friendly.</td>\n",
        "    </tr>\n",
        "    <tr>\n",
        "      <th>2 </th>\n",
        "      <td>                                                                                                                                                                     still getting used to windows 8 ui.</td>\n",
        "    </tr>\n",
        "    <tr>\n",
        "      <th>3 </th>\n",
        "      <td>                                                                                                                                                   windows 8 has a little learning curve but it is nice.</td>\n",
        "    </tr>\n",
        "    <tr>\n",
        "      <th>4 </th>\n",
        "      <td>                     this really is the xps 13 perfected, although the price could set it back slightly.pros:great design and build quality,great screen, haswell - better battery life, great keyboard.</td>\n",
        "    </tr>\n",
        "    <tr>\n",
        "      <th>5 </th>\n",
        "      <td>                                                            i purchased the brandx xps 13 with the new 4th generation chip and had to have the backlit keyboard as from using that feature on the xps14.</td>\n",
        "    </tr>\n",
        "    <tr>\n",
        "      <th>6 </th>\n",
        "      <td>                                                                                                                                                i also choose windows 7 because i do not like windows 8.</td>\n",
        "    </tr>\n",
        "    <tr>\n",
        "      <th>7 </th>\n",
        "      <td>                                                                                                                                                                     this new xps 13 computer rocks!!!!!</td>\n",
        "    </tr>\n",
        "    <tr>\n",
        "      <th>8 </th>\n",
        "      <td>                                                                                                                                                                             the brandx xps 13 is great.</td>\n",
        "    </tr>\n",
        "    <tr>\n",
        "      <th>9 </th>\n",
        "      <td>                                                                                                                                                        not even a mac comes close to the brandx xps 13.</td>\n",
        "    </tr>\n",
        "    <tr>\n",
        "      <th>10</th>\n",
        "      <td>                                                                                                                                                            the brandx xps 13 is the perfect ultra book.</td>\n",
        "    </tr>\n",
        "    <tr>\n",
        "      <th>11</th>\n",
        "      <td>                                                                                                                                           this is the first windows 8 laptop that i bought that i like.</td>\n",
        "    </tr>\n",
        "    <tr>\n",
        "      <th>12</th>\n",
        "      <td> windows 8 is a bit scary at first, but its actually a great operating system and is well worth having once you get used to it - makes the whole thing more fluid and personal once you pin and move ...</td>\n",
        "    </tr>\n",
        "    <tr>\n",
        "      <th>13</th>\n",
        "      <td>                                                                                                                   get windows 8 pro for the extra security (bitlocker), extra speed, and accessibility.</td>\n",
        "    </tr>\n",
        "    <tr>\n",
        "      <th>14</th>\n",
        "      <td>                                                                                                                                 i was skeptical of the windows 8 operating system, but it is very nice.</td>\n",
        "    </tr>\n",
        "    <tr>\n",
        "      <th>15</th>\n",
        "      <td>                                                                                                                                 i do love the performance and wanted windows 7 os instead of windows 8.</td>\n",
        "    </tr>\n",
        "    <tr>\n",
        "      <th>16</th>\n",
        "      <td>                                                                                                                                                it seemed intuitive to me that i should order windows 8.</td>\n",
        "    </tr>\n",
        "    <tr>\n",
        "      <th>17</th>\n",
        "      <td>                                    i knew that an i3 chip based laptop would not be that fast running windows 8 - but this is really bad, application take forever to open and windows 8 just run slow.</td>\n",
        "    </tr>\n",
        "    <tr>\n",
        "      <th>18</th>\n",
        "      <td>                                    i knew that an i3 chip based laptop would not be that fast running windows 8 - but this is really bad, application take forever to open and windows 8 just run slow.</td>\n",
        "    </tr>\n",
        "    <tr>\n",
        "      <th>19</th>\n",
        "      <td>                                                                                                         the windows 8 operating system is designed for social media, but not for business applications.</td>\n",
        "    </tr>\n",
        "    <tr>\n",
        "      <th>20</th>\n",
        "      <td>                                                                                                                                               but then putting up with windows 8 has been a night mare.</td>\n",
        "    </tr>\n",
        "    <tr>\n",
        "      <th>21</th>\n",
        "      <td>                                                                                                                                                  not crazy about windows 8, but will give it more time.</td>\n",
        "    </tr>\n",
        "    <tr>\n",
        "      <th>22</th>\n",
        "      <td>                                                                                                                                                                  first time with windows 8 and hate it.</td>\n",
        "    </tr>\n",
        "    <tr>\n",
        "      <th>23</th>\n",
        "      <td>                                                                                                                                        windows 8 has taken a bit of getting use to but easy to pick up.</td>\n",
        "    </tr>\n",
        "    <tr>\n",
        "      <th>24</th>\n",
        "      <td>                                                                             though not brandx is problem windows 8 has frozen up on me several times and most of the problem there is because of ie 10.</td>\n",
        "    </tr>\n",
        "    <tr>\n",
        "      <th>25</th>\n",
        "      <td>                                                                                                    you can create your own, but it is still not the same as actually having the windows 8 pro oem disk.</td>\n",
        "    </tr>\n",
        "    <tr>\n",
        "      <th>26</th>\n",
        "      <td>                                                                                                                                                                       very nice platform for windows 8.</td>\n",
        "    </tr>\n",
        "    <tr>\n",
        "      <th>27</th>\n",
        "      <td>                                                                           learning windows 8 is a challenge to some extent but the laptop itself is great, portable, and the keyboard has a nice touch.</td>\n",
        "    </tr>\n",
        "    <tr>\n",
        "      <th>28</th>\n",
        "      <td>                                                                                                                                  this laptop came with windows 8 and i upgraded to 8.1 with no trouble.</td>\n",
        "    </tr>\n",
        "    <tr>\n",
        "      <th>29</th>\n",
        "      <td>                                           windows 8 is a peculiar one at first, but i sat down and went through the instructions 'getting started with windows 8 on your new brandx' that are provided.</td>\n",
        "    </tr>\n",
        "    <tr>\n",
        "      <th>30</th>\n",
        "      <td>                                           windows 8 is a peculiar one at first, but i sat down and went through the instructions 'getting started with windows 8 on your new brandx' that are provided.</td>\n",
        "    </tr>\n",
        "    <tr>\n",
        "      <th>31</th>\n",
        "      <td>                                                                                                         it is good that brandx had the forethought to include this and now i think windows 8 is superb!</td>\n",
        "    </tr>\n",
        "    <tr>\n",
        "      <th>32</th>\n",
        "      <td>                                                                                                                               thankfully, brandx understands that windows 8 is not right for everybody.</td>\n",
        "    </tr>\n",
        "    <tr>\n",
        "      <th>33</th>\n",
        "      <td>                                                  i see allot of reviews saying haw bad windows 8 but it just takes a little getting use to, once you know how to use the feature it has it works great.</td>\n",
        "    </tr>\n",
        "    <tr>\n",
        "      <th>34</th>\n",
        "      <td>                                                                                                                                     though i did not get the touch screen and should have for windows 8</td>\n",
        "    </tr>\n",
        "    <tr>\n",
        "      <th>35</th>\n",
        "      <td> i have had my new laptop a couple of months and i am very happy with my purchase.takes a little getting used to the new windows 8,not bad just different.i woul highly recommend brandx laptops and ...</td>\n",
        "    </tr>\n",
        "    <tr>\n",
        "      <th>36</th>\n",
        "      <td>                                                                                                                                 windows 8 took a while to figure out but eventually you get used to it.</td>\n",
        "    </tr>\n",
        "    <tr>\n",
        "      <th>37</th>\n",
        "      <td>                                                    given this laptop for my birthday and exceedingly pleased, windows 8 is fantastic as i gives you the option to go to normal view and the new layout.</td>\n",
        "    </tr>\n",
        "    <tr>\n",
        "      <th>38</th>\n",
        "      <td>                                                                                                                                                      windows 8 was really not that hard, but different.</td>\n",
        "    </tr>\n",
        "    <tr>\n",
        "      <th>39</th>\n",
        "      <td>                                                  i see allot of reviews saying haw bad windows 8 but it just takes a little getting use to, once you know how to use the feature it has it works great.</td>\n",
        "    </tr>\n",
        "    <tr>\n",
        "      <th>40</th>\n",
        "      <td>                                                                                                                                    though i did not get the touch screen and should have for windows 8.</td>\n",
        "    </tr>\n",
        "    <tr>\n",
        "      <th>41</th>\n",
        "      <td>                                                                                                                              however, i have always wanted a tablet with enough power to run windows 8.</td>\n",
        "    </tr>\n",
        "    <tr>\n",
        "      <th>42</th>\n",
        "      <td>          i have experimented with other tablets including the surfaces and found a strong interest in their performance but i couldn not agree with the prices and the strip down version of windows 8.</td>\n",
        "    </tr>\n",
        "    <tr>\n",
        "      <th>43</th>\n",
        "      <td>                                                                                               as for the windows 8, in the beginning, i was never drawn to the os because windows 7 was all i accepted.</td>\n",
        "    </tr>\n",
        "    <tr>\n",
        "      <th>44</th>\n",
        "      <td>   yet, i truly feel that the windows 8 should remain existent to only touch base computers and tablets because the shortcuts you hate on windows 8 will be the things you appreciate using this tablet.</td>\n",
        "    </tr>\n",
        "    <tr>\n",
        "      <th>45</th>\n",
        "      <td>   yet, i truly feel that the windows 8 should remain existent to only touch base computers and tablets because the shortcuts you hate on windows 8 will be the things you appreciate using this tablet.</td>\n",
        "    </tr>\n",
        "  </tbody>\n",
        "</table>\n",
        "<p>46 rows \u00d7 1 columns</p>\n",
        "</div>"
       ],
       "metadata": {},
       "output_type": "pyout",
       "prompt_number": 36,
       "text": [
        "                                                                                                                                                                                                   Sentence\n",
        "0                                                                                                                     get windows 8 pro for the extra security (bitlocker), extra speed, and accessibility.\n",
        "1                                                                                                   windows 8 has offered its challenges, but as we learn the  notricks', it is getting much more friendly.\n",
        "2                                                                                                                                                                       still getting used to windows 8 ui.\n",
        "3                                                                                                                                                     windows 8 has a little learning curve but it is nice.\n",
        "4                       this really is the xps 13 perfected, although the price could set it back slightly.pros:great design and build quality,great screen, haswell - better battery life, great keyboard.\n",
        "5                                                              i purchased the brandx xps 13 with the new 4th generation chip and had to have the backlit keyboard as from using that feature on the xps14.\n",
        "6                                                                                                                                                  i also choose windows 7 because i do not like windows 8.\n",
        "7                                                                                                                                                                       this new xps 13 computer rocks!!!!!\n",
        "8                                                                                                                                                                               the brandx xps 13 is great.\n",
        "9                                                                                                                                                          not even a mac comes close to the brandx xps 13.\n",
        "10                                                                                                                                                             the brandx xps 13 is the perfect ultra book.\n",
        "11                                                                                                                                            this is the first windows 8 laptop that i bought that i like.\n",
        "12  windows 8 is a bit scary at first, but its actually a great operating system and is well worth having once you get used to it - makes the whole thing more fluid and personal once you pin and move ...\n",
        "13                                                                                                                    get windows 8 pro for the extra security (bitlocker), extra speed, and accessibility.\n",
        "14                                                                                                                                  i was skeptical of the windows 8 operating system, but it is very nice.\n",
        "15                                                                                                                                  i do love the performance and wanted windows 7 os instead of windows 8.\n",
        "16                                                                                                                                                 it seemed intuitive to me that i should order windows 8.\n",
        "17                                     i knew that an i3 chip based laptop would not be that fast running windows 8 - but this is really bad, application take forever to open and windows 8 just run slow.\n",
        "18                                     i knew that an i3 chip based laptop would not be that fast running windows 8 - but this is really bad, application take forever to open and windows 8 just run slow.\n",
        "19                                                                                                          the windows 8 operating system is designed for social media, but not for business applications.\n",
        "20                                                                                                                                                but then putting up with windows 8 has been a night mare.\n",
        "21                                                                                                                                                   not crazy about windows 8, but will give it more time.\n",
        "22                                                                                                                                                                   first time with windows 8 and hate it.\n",
        "23                                                                                                                                         windows 8 has taken a bit of getting use to but easy to pick up.\n",
        "24                                                                              though not brandx is problem windows 8 has frozen up on me several times and most of the problem there is because of ie 10.\n",
        "25                                                                                                     you can create your own, but it is still not the same as actually having the windows 8 pro oem disk.\n",
        "26                                                                                                                                                                        very nice platform for windows 8.\n",
        "27                                                                            learning windows 8 is a challenge to some extent but the laptop itself is great, portable, and the keyboard has a nice touch.\n",
        "28                                                                                                                                   this laptop came with windows 8 and i upgraded to 8.1 with no trouble.\n",
        "29                                            windows 8 is a peculiar one at first, but i sat down and went through the instructions 'getting started with windows 8 on your new brandx' that are provided.\n",
        "30                                            windows 8 is a peculiar one at first, but i sat down and went through the instructions 'getting started with windows 8 on your new brandx' that are provided.\n",
        "31                                                                                                          it is good that brandx had the forethought to include this and now i think windows 8 is superb!\n",
        "32                                                                                                                                thankfully, brandx understands that windows 8 is not right for everybody.\n",
        "33                                                   i see allot of reviews saying haw bad windows 8 but it just takes a little getting use to, once you know how to use the feature it has it works great.\n",
        "34                                                                                                                                      though i did not get the touch screen and should have for windows 8\n",
        "35  i have had my new laptop a couple of months and i am very happy with my purchase.takes a little getting used to the new windows 8,not bad just different.i woul highly recommend brandx laptops and ...\n",
        "36                                                                                                                                  windows 8 took a while to figure out but eventually you get used to it.\n",
        "37                                                     given this laptop for my birthday and exceedingly pleased, windows 8 is fantastic as i gives you the option to go to normal view and the new layout.\n",
        "38                                                                                                                                                       windows 8 was really not that hard, but different.\n",
        "39                                                   i see allot of reviews saying haw bad windows 8 but it just takes a little getting use to, once you know how to use the feature it has it works great.\n",
        "40                                                                                                                                     though i did not get the touch screen and should have for windows 8.\n",
        "41                                                                                                                               however, i have always wanted a tablet with enough power to run windows 8.\n",
        "42           i have experimented with other tablets including the surfaces and found a strong interest in their performance but i couldn not agree with the prices and the strip down version of windows 8.\n",
        "43                                                                                                as for the windows 8, in the beginning, i was never drawn to the os because windows 7 was all i accepted.\n",
        "44    yet, i truly feel that the windows 8 should remain existent to only touch base computers and tablets because the shortcuts you hate on windows 8 will be the things you appreciate using this tablet.\n",
        "45    yet, i truly feel that the windows 8 should remain existent to only touch base computers and tablets because the shortcuts you hate on windows 8 will be the things you appreciate using this tablet.\n",
        "\n",
        "[46 rows x 1 columns]"
       ]
      }
     ],
     "prompt_number": 36
    },
    {
     "cell_type": "code",
     "collapsed": false,
     "input": [],
     "language": "python",
     "metadata": {},
     "outputs": []
    }
   ],
   "metadata": {}
  }
 ]
}