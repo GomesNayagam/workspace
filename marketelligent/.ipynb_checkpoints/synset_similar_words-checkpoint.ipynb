{
 "metadata": {
  "name": "",
  "signature": "sha256:569777e397085b25d6de1c0d2c6cc92de6282db26eb3b9f3c6d1e0ad6b3fbe2e"
 },
 "nbformat": 3,
 "nbformat_minor": 0,
 "worksheets": [
  {
   "cells": [
    {
     "cell_type": "code",
     "collapsed": false,
     "input": [
      "from nltk.corpus import wordnet as wn\n",
      "import time\n",
      "from collections import defaultdict\n",
      "import json"
     ],
     "language": "python",
     "metadata": {},
     "outputs": [],
     "prompt_number": 85
    },
    {
     "cell_type": "code",
     "collapsed": false,
     "input": [
      "def similarwordsfor(term, pos=['a','v'], lextypes=['adj.all','verb.change']):\n",
      "    #adjective and verb is default, more can be passed as per spec given below \n",
      "    #ADJ, ADJ_SAT, ADV, NOUN, VERB = 'a', 's', 'r', 'n', 'v'\n",
      "    #http://nltk.googlecode.com/svn/trunk/doc/api/nltk.corpus.reader.wordnet-pysrc.html#Synset\n",
      "    if not isinstance(term, str):\n",
      "        return \"%r is not supported, only string\" % type(term)\n",
      "    \n",
      "    if not isinstance(pos, list) or not isinstance(lextypes, list):\n",
      "        return \"%r is not supported, only string\" % type(term)\n",
      "   \n",
      "    morphed_term =  wn.morphy(term, pos='v')\n",
      "    \n",
      "    synsets = wn.synsets( morphed_term, pos)\n",
      "    \n",
      "    # chosen only the below lex types to suits VOC need, refer below link for more option\n",
      "    # reference for type of lex: http://nltk.googlecode.com/svn/trunk/doc/api/nltk.wordnet.lexname-pysrc.html\n",
      "    \n",
      "    if len(lextypes) == 1 and lextypes[0].upper() == 'ALL':\n",
      "        cond1 = \"1==1\"\n",
      "    else:\n",
      "        cond1 = \"synset.lexname in lextypes\"\n",
      "    result = defaultdict(set)\n",
      "    for synset in synsets:\n",
      "        if len(synset.lemma_names) > 1  and eval(cond1):\n",
      "          #print \"-\" * 10\n",
      "          #print \"Lexical Type:\", synset.lexname\n",
      "          #print \"Lemmas:\", synset.lemma_names\n",
      "          result[synset.lexname].update(set(synset.lemma_names))\n",
      "\n",
      "    for key in result.keys():\n",
      "        result[key] = list(result[key])\n",
      "        \n",
      "    return result"
     ],
     "language": "python",
     "metadata": {},
     "outputs": [],
     "prompt_number": 106
    },
    {
     "cell_type": "code",
     "collapsed": false,
     "input": [
      "\n",
      "print json.dumps(similarwordsfor('thin'), indent=2)\n"
     ],
     "language": "python",
     "metadata": {},
     "outputs": [
      {
       "output_type": "stream",
       "stream": "stdout",
       "text": [
        "{\n",
        "  \"verb.change\": [\n",
        "    \"thin_out\", \n",
        "    \"reduce\", \n",
        "    \"cut\", \n",
        "    \"dilute\", \n",
        "    \"thin\"\n",
        "  ], \n",
        "  \"adj.all\": [\n",
        "    \"tenuous\", \n",
        "    \"slight\", \n",
        "    \"fragile\", \n",
        "    \"lean\", \n",
        "    \"slender\", \n",
        "    \"flimsy\", \n",
        "    \"thin\", \n",
        "    \"sparse\"\n",
        "  ]\n",
        "}\n"
       ]
      }
     ],
     "prompt_number": 109
    },
    {
     "cell_type": "code",
     "collapsed": false,
     "input": [],
     "language": "python",
     "metadata": {},
     "outputs": [],
     "prompt_number": 73
    },
    {
     "cell_type": "code",
     "collapsed": false,
     "input": [],
     "language": "python",
     "metadata": {},
     "outputs": []
    }
   ],
   "metadata": {}
  }
 ]
}