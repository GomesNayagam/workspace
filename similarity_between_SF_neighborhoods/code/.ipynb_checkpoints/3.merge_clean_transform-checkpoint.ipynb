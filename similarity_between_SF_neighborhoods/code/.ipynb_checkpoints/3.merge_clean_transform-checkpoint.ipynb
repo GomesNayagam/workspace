{
 "metadata": {
  "name": ""
 },
 "nbformat": 3,
 "nbformat_minor": 0,
 "worksheets": [
  {
   "cells": [
    {
     "cell_type": "heading",
     "level": 1,
     "metadata": {},
     "source": [
      "MERGE, TRANSFORM, AND CLEAN"
     ]
    },
    {
     "cell_type": "markdown",
     "metadata": {},
     "source": [
      "In this document, I am going to merge all the datasets that I have created together, perform some transformations on the data, and then do some data cleaning.\n",
      "\n",
      "Please note that I am not going to include information about housing prices in the merged dataset because I want similar neighborhoods to be able to have some variability in their housing prices.  In this way, I can use these to data to provide recommendations about alternative hoods that vary in price.  \n"
     ]
    },
    {
     "cell_type": "heading",
     "level": 2,
     "metadata": {},
     "source": [
      "1.  Merge the datasets\n"
     ]
    },
    {
     "cell_type": "markdown",
     "metadata": {},
     "source": [
      "This is how this section will proceed:\n",
      "\n",
      "A) Merge total datasets:  # of businesses & restaurants operating in that area; fog score of area; transportation scores of area (walking, biking, bus). \n",
      "\n",
      "B) Merge time datasets (e.g., events that occured between 7/2012 and 7/2013):  # of businesses & restaurants that opened that year; # of crime / quality of life issues reported;  # of houses of different bedroom sizes that were on the market.  \n",
      "\n",
      "C)  Merge all datasets from A & B with the dataframe that has the area of each hood (km squared)"
     ]
    },
    {
     "cell_type": "code",
     "collapsed": false,
     "input": [
      "import pandas as pd\n",
      "import numpy as np\n",
      "import csv\n",
      "import re\n",
      "%pylab inline"
     ],
     "language": "python",
     "metadata": {},
     "outputs": [
      {
       "output_type": "stream",
       "stream": "stdout",
       "text": [
        "Populating the interactive namespace from numpy and matplotlib\n"
       ]
      }
     ],
     "prompt_number": 4
    },
    {
     "cell_type": "heading",
     "level": 4,
     "metadata": {},
     "source": [
      "A)  MERGE total datasets (biz_total, restaurant_total, fog_total, transit_total)"
     ]
    },
    {
     "cell_type": "code",
     "collapsed": false,
     "input": [
      "#open relevant datasets\n",
      "biz_tot=pd.read_csv(open('/Users/anson/Documents/Office/zipfian/repos/Personal_project/hoods_data/prep_to_analyze/biz_total_full.csv'))\n",
      "rest_tot=pd.read_csv(open('/Users/anson/Documents/Office/zipfian/repos/Personal_project/hoods_data/prep_to_analyze/restaurant_total.csv'))\n",
      "fog_tot=pd.read_csv(open('/Users/anson/Documents/Office/zipfian/repos/Personal_project/hoods_data/modified_csvs/fog_scores_all_hoods.csv'))\n",
      "walk_tot=pd.read_csv(open('/Users/anson/Documents/Office/zipfian/repos/Personal_project/hoods_data/prep_to_analyze/walk_n_other_scores_all_hoods.csv'))\n",
      "\n",
      "#Ran this because there was an extra space in the title of the fog data set \n",
      "fog_tot.columns = fog_tot.columns.map(lambda x: x.strip()) \n",
      "\n",
      "#merge datasets together\n",
      "tots_merged=fog_tot.merge(walk_tot, on='hood', how='outer')\n",
      "tots_merged2=tots_merged.merge(rest_tot, on='hood', how='outer')\n",
      "tots_merged_final=tots_merged2.merge(biz_tot, on='hood', how='outer')\n",
      "\n",
      "#remove last two rows from file - it is uncategorized data and yerba buena island\n",
      "tots_merged_final = tots_merged_final.ix[:115, :]\n",
      "\n",
      "#look at the data to check for null values\n",
      "tots_merged_final"
     ],
     "language": "python",
     "metadata": {},
     "outputs": [
      {
       "html": [
        "<pre>\n",
        "&lt;class 'pandas.core.frame.DataFrame'&gt;\n",
        "Int64Index: 116 entries, 0 to 115\n",
        "Data columns (total 22 columns):\n",
        "hood                     116  non-null values\n",
        "fog_zone                 116  non-null values\n",
        "walk_score               116  non-null values\n",
        "transit_score            116  non-null values\n",
        "bike_score               116  non-null values\n",
        "restaurant_total         105  non-null values\n",
        "Unnamed: 0               116  non-null values\n",
        "broker_tot               116  non-null values\n",
        "utilies_tot              116  non-null values\n",
        "transporting_tot         116  non-null values\n",
        "trucking_tot             116  non-null values\n",
        "wholesale_tot            116  non-null values\n",
        "architect_tot            116  non-null values\n",
        "nonprofit_grarage_tot    116  non-null values\n",
        "gen_contractors_tot      116  non-null values\n",
        "hotel_tot                116  non-null values\n",
        "cleaners_tot             116  non-null values\n",
        "money_tot                116  non-null values\n",
        "equip_rent_tot           116  non-null values\n",
        "services_tot             116  non-null values\n",
        "retail_tot               116  non-null values\n",
        "storage_tot              116  non-null values\n",
        "dtypes: float64(21), object(1)\n",
        "</pre>"
       ],
       "metadata": {},
       "output_type": "pyout",
       "prompt_number": 5,
       "text": [
        "<class 'pandas.core.frame.DataFrame'>\n",
        "Int64Index: 116 entries, 0 to 115\n",
        "Data columns (total 22 columns):\n",
        "hood                     116  non-null values\n",
        "fog_zone                 116  non-null values\n",
        "walk_score               116  non-null values\n",
        "transit_score            116  non-null values\n",
        "bike_score               116  non-null values\n",
        "restaurant_total         105  non-null values\n",
        "Unnamed: 0               116  non-null values\n",
        "broker_tot               116  non-null values\n",
        "utilies_tot              116  non-null values\n",
        "transporting_tot         116  non-null values\n",
        "trucking_tot             116  non-null values\n",
        "wholesale_tot            116  non-null values\n",
        "architect_tot            116  non-null values\n",
        "nonprofit_grarage_tot    116  non-null values\n",
        "gen_contractors_tot      116  non-null values\n",
        "hotel_tot                116  non-null values\n",
        "cleaners_tot             116  non-null values\n",
        "money_tot                116  non-null values\n",
        "equip_rent_tot           116  non-null values\n",
        "services_tot             116  non-null values\n",
        "retail_tot               116  non-null values\n",
        "storage_tot              116  non-null values\n",
        "dtypes: float64(21), object(1)"
       ]
      }
     ],
     "prompt_number": 5
    },
    {
     "cell_type": "code",
     "collapsed": false,
     "input": [
      "del tots_merged_final['Unnamed: 0']"
     ],
     "language": "python",
     "metadata": {},
     "outputs": [],
     "prompt_number": 6
    },
    {
     "cell_type": "code",
     "collapsed": false,
     "input": [
      "#There are null values in restaurants.  If they are missing, then there are 0 restaurants in that hood; replace NaN with 0.\n",
      "tots_merged_final=tots_merged_final.fillna(0)\n",
      "tots_merged_final.ix[:1, :20]"
     ],
     "language": "python",
     "metadata": {},
     "outputs": [
      {
       "html": [
        "<div style=\"max-height:1000px;max-width:1500px;overflow:auto;\">\n",
        "<table border=\"1\" class=\"dataframe\">\n",
        "  <thead>\n",
        "    <tr style=\"text-align: right;\">\n",
        "      <th></th>\n",
        "      <th>hood</th>\n",
        "      <th>fog_zone</th>\n",
        "      <th>walk_score</th>\n",
        "      <th>transit_score</th>\n",
        "      <th>bike_score</th>\n",
        "      <th>restaurant_total</th>\n",
        "      <th>broker_tot</th>\n",
        "      <th>utilies_tot</th>\n",
        "      <th>transporting_tot</th>\n",
        "      <th>trucking_tot</th>\n",
        "      <th>wholesale_tot</th>\n",
        "      <th>architect_tot</th>\n",
        "      <th>nonprofit_grarage_tot</th>\n",
        "      <th>gen_contractors_tot</th>\n",
        "      <th>hotel_tot</th>\n",
        "      <th>cleaners_tot</th>\n",
        "      <th>money_tot</th>\n",
        "      <th>equip_rent_tot</th>\n",
        "      <th>services_tot</th>\n",
        "      <th>retail_tot</th>\n",
        "    </tr>\n",
        "  </thead>\n",
        "  <tbody>\n",
        "    <tr>\n",
        "      <th>0</th>\n",
        "      <td> Alamo Square</td>\n",
        "      <td> 5</td>\n",
        "      <td> 94</td>\n",
        "      <td> 93</td>\n",
        "      <td> 86</td>\n",
        "      <td> 15</td>\n",
        "      <td> 16</td>\n",
        "      <td> 0</td>\n",
        "      <td> 22</td>\n",
        "      <td> 0</td>\n",
        "      <td> 21</td>\n",
        "      <td> 4</td>\n",
        "      <td> 0</td>\n",
        "      <td> 15</td>\n",
        "      <td> 84</td>\n",
        "      <td> 2</td>\n",
        "      <td> 1</td>\n",
        "      <td> 0</td>\n",
        "      <td> 304</td>\n",
        "      <td> 88</td>\n",
        "    </tr>\n",
        "    <tr>\n",
        "      <th>1</th>\n",
        "      <td>   Anza Vista</td>\n",
        "      <td> 7</td>\n",
        "      <td> 92</td>\n",
        "      <td> 80</td>\n",
        "      <td> 80</td>\n",
        "      <td>  2</td>\n",
        "      <td>  1</td>\n",
        "      <td> 1</td>\n",
        "      <td>  9</td>\n",
        "      <td> 1</td>\n",
        "      <td> 12</td>\n",
        "      <td> 3</td>\n",
        "      <td> 0</td>\n",
        "      <td>  7</td>\n",
        "      <td> 41</td>\n",
        "      <td> 1</td>\n",
        "      <td> 1</td>\n",
        "      <td> 3</td>\n",
        "      <td> 133</td>\n",
        "      <td> 30</td>\n",
        "    </tr>\n",
        "  </tbody>\n",
        "</table>\n",
        "</div>"
       ],
       "metadata": {},
       "output_type": "pyout",
       "prompt_number": 7,
       "text": [
        "           hood  fog_zone  walk_score  transit_score  bike_score  \\\n",
        "0  Alamo Square         5          94             93          86   \n",
        "1    Anza Vista         7          92             80          80   \n",
        "\n",
        "   restaurant_total  broker_tot  utilies_tot  transporting_tot  trucking_tot  \\\n",
        "0                15          16            0                22             0   \n",
        "1                 2           1            1                 9             1   \n",
        "\n",
        "   wholesale_tot  architect_tot  nonprofit_grarage_tot  gen_contractors_tot  \\\n",
        "0             21              4                      0                   15   \n",
        "1             12              3                      0                    7   \n",
        "\n",
        "   hotel_tot  cleaners_tot  money_tot  equip_rent_tot  services_tot  \\\n",
        "0         84             2          1               0           304   \n",
        "1         41             1          1               3           133   \n",
        "\n",
        "   retail_tot  \n",
        "0          88  \n",
        "1          30  "
       ]
      }
     ],
     "prompt_number": 7
    },
    {
     "cell_type": "heading",
     "level": 4,
     "metadata": {},
     "source": [
      "B) Merge time datasets"
     ]
    },
    {
     "cell_type": "markdown",
     "metadata": {},
     "source": [
      "These datasets contain # of events or units per year. "
     ]
    },
    {
     "cell_type": "code",
     "collapsed": false,
     "input": [
      "#not going to include housing prices in model so that similar neighbor hoods are more likely to vary in price\n",
      "#house_price_time=pd.read_csv(open('/Users/anson/Documents/Office/zipfian/repos/Personal_project/hoods_data/prep_to_analyze/house_price_time.csv'))\n",
      "\n",
      "quality_time=pd.read_csv(open('/Users/anson/Documents/Office/zipfian/repos/Personal_project/hoods_data/prep_to_analyze/quality_time_full.csv'))\n",
      "house_freq_time=pd.read_csv(open('/Users/anson/Documents/Office/zipfian/repos/Personal_project/hoods_data/prep_to_analyze/house_freq_time.csv'))\n",
      "crime_time=pd.read_csv(open('/Users/anson/Documents/Office/zipfian/repos/Personal_project/hoods_data/prep_to_analyze/crime_time_full.csv'))\n",
      "biz_time=pd.read_csv(open('/Users/anson/Documents/Office/zipfian/repos/Personal_project/hoods_data/prep_to_analyze/biz_time_full.csv'))\n"
     ],
     "language": "python",
     "metadata": {},
     "outputs": [],
     "prompt_number": 8
    },
    {
     "cell_type": "code",
     "collapsed": false,
     "input": [
      "#rename Unnamed columns as 'Date'\n",
      "quality_time.rename(columns={'Unnamed: 0' : 'Date'}, inplace=True)\n",
      "house_freq_time.rename(columns={'Unnamed: 0' : 'Date'}, inplace=True)\n",
      "#format the crime file\n",
      "crime_time2 = crime_time.drop('Unnamed: 0', 1)\n",
      "crime_time2['Date'] = crime_time2['Date'].str.replace(' 00:00:00', '')\n",
      "crime_time2.to_csv('/Users/anson/Documents/Office/zipfian/repos/Personal_project/hoods_data/prep_to_analyze/crime_time_full.csv')\n",
      "\n",
      "#now add on biz time information\n",
      "time_merged1 = quality_time.merge(crime_time2, on=['Date', 'hood'], how='left')\n",
      "time_merged_allyears=time_merged1.merge(house_freq_time, on=['Date', 'hood'], how='left')\n",
      "time_merged_allyears.ix[:1, :20]\n"
     ],
     "language": "python",
     "metadata": {},
     "outputs": [
      {
       "html": [
        "<div style=\"max-height:1000px;max-width:1500px;overflow:auto;\">\n",
        "<table border=\"1\" class=\"dataframe\">\n",
        "  <thead>\n",
        "    <tr style=\"text-align: right;\">\n",
        "      <th></th>\n",
        "      <th>Date</th>\n",
        "      <th>hood</th>\n",
        "      <th>311 External Request</th>\n",
        "      <th>Abandoned Vehicle</th>\n",
        "      <th>Blocked Street or SideWalk</th>\n",
        "      <th>Catch Basin Maintenance</th>\n",
        "      <th>Color Curb</th>\n",
        "      <th>Construction Zone Permits</th>\n",
        "      <th>DPW Volunteer Programs</th>\n",
        "      <th>Damaged Property</th>\n",
        "      <th>General Requests</th>\n",
        "      <th>Graffiti Private Property</th>\n",
        "      <th>Graffiti Public Property</th>\n",
        "      <th>Illegal Postings</th>\n",
        "      <th>Interdepartmental Request</th>\n",
        "      <th>Litter Receptacles</th>\n",
        "      <th>MUNI Feedback</th>\n",
        "      <th>Rec and Park Requests</th>\n",
        "      <th>Residential Building Request</th>\n",
        "      <th>SFHA Requests</th>\n",
        "    </tr>\n",
        "  </thead>\n",
        "  <tbody>\n",
        "    <tr>\n",
        "      <th>0</th>\n",
        "      <td> 2009-06-30</td>\n",
        "      <td> Alamo Square</td>\n",
        "      <td> 14</td>\n",
        "      <td> 27</td>\n",
        "      <td> 4</td>\n",
        "      <td> 1</td>\n",
        "      <td> 0</td>\n",
        "      <td> 0</td>\n",
        "      <td> 0</td>\n",
        "      <td> 2</td>\n",
        "      <td> 22</td>\n",
        "      <td>  75</td>\n",
        "      <td>  90</td>\n",
        "      <td> 1</td>\n",
        "      <td> 0</td>\n",
        "      <td> 11</td>\n",
        "      <td> 0</td>\n",
        "      <td> 15</td>\n",
        "      <td> 0</td>\n",
        "      <td> 0</td>\n",
        "    </tr>\n",
        "    <tr>\n",
        "      <th>1</th>\n",
        "      <td> 2010-06-30</td>\n",
        "      <td> Alamo Square</td>\n",
        "      <td> 11</td>\n",
        "      <td> 14</td>\n",
        "      <td> 1</td>\n",
        "      <td> 0</td>\n",
        "      <td> 1</td>\n",
        "      <td> 0</td>\n",
        "      <td> 0</td>\n",
        "      <td> 9</td>\n",
        "      <td> 25</td>\n",
        "      <td> 112</td>\n",
        "      <td> 103</td>\n",
        "      <td> 0</td>\n",
        "      <td> 0</td>\n",
        "      <td> 16</td>\n",
        "      <td> 0</td>\n",
        "      <td> 44</td>\n",
        "      <td> 0</td>\n",
        "      <td> 0</td>\n",
        "    </tr>\n",
        "  </tbody>\n",
        "</table>\n",
        "</div>"
       ],
       "metadata": {},
       "output_type": "pyout",
       "prompt_number": 9,
       "text": [
        "         Date          hood  311 External Request  Abandoned Vehicle  \\\n",
        "0  2009-06-30  Alamo Square                    14                 27   \n",
        "1  2010-06-30  Alamo Square                    11                 14   \n",
        "\n",
        "   Blocked Street or SideWalk  Catch Basin Maintenance  Color Curb  \\\n",
        "0                           4                        1           0   \n",
        "1                           1                        0           1   \n",
        "\n",
        "   Construction Zone Permits  DPW Volunteer Programs  Damaged Property  \\\n",
        "0                          0                       0                 2   \n",
        "1                          0                       0                 9   \n",
        "\n",
        "   General Requests  Graffiti Private Property  Graffiti Public Property  \\\n",
        "0                22                         75                        90   \n",
        "1                25                        112                       103   \n",
        "\n",
        "   Illegal Postings  Interdepartmental Request  Litter Receptacles  \\\n",
        "0                 1                          0                  11   \n",
        "1                 0                          0                  16   \n",
        "\n",
        "   MUNI Feedback  Rec and Park Requests  Residential Building Request  \\\n",
        "0              0                     15                             0   \n",
        "1              0                     44                             0   \n",
        "\n",
        "   SFHA Requests  \n",
        "0              0  \n",
        "1              0  "
       ]
      }
     ],
     "prompt_number": 9
    },
    {
     "cell_type": "markdown",
     "metadata": {},
     "source": [
      "I am only going to use 2013 (7/12 to 7/13) for my first model. So for now, I'm going to remove previous years from the df.   Afterwards, I will merge biz_time which only has # of businesses that opened in 2013."
     ]
    },
    {
     "cell_type": "code",
     "collapsed": false,
     "input": [
      "#now open time data - then get rid of previous years cuz only going to look at recent year in this version\n",
      "time_prep=time_merged_allyears.set_index('Date')\n",
      "time_prep.index = pd.to_datetime(time_prep.index)\n",
      "time_prep1 = time_prep.ix['2012-07-01':'2013-12-01']\n",
      "\n",
      "#merge biz_time\n",
      "#first delete unneeded date column (mislabeled 'Unnamed: 1') \n",
      "del biz_time['Unnamed: 1']\n",
      "time_2013 = time_prep1.merge(biz_time, on=['hood'], how='left')\n",
      "time_2013.ix[:2, :20]"
     ],
     "language": "python",
     "metadata": {},
     "outputs": [
      {
       "html": [
        "<div style=\"max-height:1000px;max-width:1500px;overflow:auto;\">\n",
        "<table border=\"1\" class=\"dataframe\">\n",
        "  <thead>\n",
        "    <tr style=\"text-align: right;\">\n",
        "      <th></th>\n",
        "      <th>hood</th>\n",
        "      <th>311 External Request</th>\n",
        "      <th>Abandoned Vehicle</th>\n",
        "      <th>Blocked Street or SideWalk</th>\n",
        "      <th>Catch Basin Maintenance</th>\n",
        "      <th>Color Curb</th>\n",
        "      <th>Construction Zone Permits</th>\n",
        "      <th>DPW Volunteer Programs</th>\n",
        "      <th>Damaged Property</th>\n",
        "      <th>General Requests</th>\n",
        "      <th>Graffiti Private Property</th>\n",
        "      <th>Graffiti Public Property</th>\n",
        "      <th>Illegal Postings</th>\n",
        "      <th>Interdepartmental Request</th>\n",
        "      <th>Litter Receptacles</th>\n",
        "      <th>MUNI Feedback</th>\n",
        "      <th>Rec and Park Requests</th>\n",
        "      <th>Residential Building Request</th>\n",
        "      <th>SFHA Requests</th>\n",
        "      <th>Sewer Issues</th>\n",
        "    </tr>\n",
        "  </thead>\n",
        "  <tbody>\n",
        "    <tr>\n",
        "      <th>0</th>\n",
        "      <td> Alamo Square</td>\n",
        "      <td> 18</td>\n",
        "      <td> 16</td>\n",
        "      <td> 9</td>\n",
        "      <td> 4</td>\n",
        "      <td> 2</td>\n",
        "      <td> 0</td>\n",
        "      <td> 0</td>\n",
        "      <td> 9</td>\n",
        "      <td> 35</td>\n",
        "      <td> 107</td>\n",
        "      <td> 138</td>\n",
        "      <td> 51</td>\n",
        "      <td> 0</td>\n",
        "      <td> 28</td>\n",
        "      <td> 0</td>\n",
        "      <td> 45</td>\n",
        "      <td> 2</td>\n",
        "      <td> 0</td>\n",
        "      <td> 21</td>\n",
        "    </tr>\n",
        "    <tr>\n",
        "      <th>1</th>\n",
        "      <td>   Anza Vista</td>\n",
        "      <td>  5</td>\n",
        "      <td> 22</td>\n",
        "      <td> 2</td>\n",
        "      <td> 0</td>\n",
        "      <td> 0</td>\n",
        "      <td> 0</td>\n",
        "      <td> 0</td>\n",
        "      <td> 7</td>\n",
        "      <td> 48</td>\n",
        "      <td>  31</td>\n",
        "      <td> 172</td>\n",
        "      <td> 82</td>\n",
        "      <td> 0</td>\n",
        "      <td> 10</td>\n",
        "      <td> 0</td>\n",
        "      <td>  0</td>\n",
        "      <td> 0</td>\n",
        "      <td> 0</td>\n",
        "      <td> 19</td>\n",
        "    </tr>\n",
        "    <tr>\n",
        "      <th>2</th>\n",
        "      <td> Apparel City</td>\n",
        "      <td> 10</td>\n",
        "      <td> 45</td>\n",
        "      <td> 0</td>\n",
        "      <td> 1</td>\n",
        "      <td> 0</td>\n",
        "      <td> 0</td>\n",
        "      <td> 0</td>\n",
        "      <td> 3</td>\n",
        "      <td> 37</td>\n",
        "      <td>  42</td>\n",
        "      <td>  43</td>\n",
        "      <td>  5</td>\n",
        "      <td> 0</td>\n",
        "      <td>  4</td>\n",
        "      <td> 0</td>\n",
        "      <td>  0</td>\n",
        "      <td> 0</td>\n",
        "      <td> 0</td>\n",
        "      <td> 13</td>\n",
        "    </tr>\n",
        "  </tbody>\n",
        "</table>\n",
        "</div>"
       ],
       "metadata": {},
       "output_type": "pyout",
       "prompt_number": 10,
       "text": [
        "           hood  311 External Request  Abandoned Vehicle  \\\n",
        "0  Alamo Square                    18                 16   \n",
        "1    Anza Vista                     5                 22   \n",
        "2  Apparel City                    10                 45   \n",
        "\n",
        "   Blocked Street or SideWalk  Catch Basin Maintenance  Color Curb  \\\n",
        "0                           9                        4           2   \n",
        "1                           2                        0           0   \n",
        "2                           0                        1           0   \n",
        "\n",
        "   Construction Zone Permits  DPW Volunteer Programs  Damaged Property  \\\n",
        "0                          0                       0                 9   \n",
        "1                          0                       0                 7   \n",
        "2                          0                       0                 3   \n",
        "\n",
        "   General Requests  Graffiti Private Property  Graffiti Public Property  \\\n",
        "0                35                        107                       138   \n",
        "1                48                         31                       172   \n",
        "2                37                         42                        43   \n",
        "\n",
        "   Illegal Postings  Interdepartmental Request  Litter Receptacles  \\\n",
        "0                51                          0                  28   \n",
        "1                82                          0                  10   \n",
        "2                 5                          0                   4   \n",
        "\n",
        "   MUNI Feedback  Rec and Park Requests  Residential Building Request  \\\n",
        "0              0                     45                             2   \n",
        "1              0                      0                             0   \n",
        "2              0                      0                             0   \n",
        "\n",
        "   SFHA Requests  Sewer Issues  \n",
        "0              0            21  \n",
        "1              0            19  \n",
        "2              0            13  "
       ]
      }
     ],
     "prompt_number": 10
    },
    {
     "cell_type": "heading",
     "level": 3,
     "metadata": {},
     "source": [
      "C)  Merge dfs from A and B with Hood Area (km squared / hood)"
     ]
    },
    {
     "cell_type": "code",
     "collapsed": false,
     "input": [
      "#open hood areas\n",
      "hood_areas=pd.read_csv(open('/Users/anson/Documents/Office/zipfian/repos/Personal_project/hoods_data/modified_csvs/hoods_area_df.csv'))\n",
      "hood_areas.rename(columns={'0' : 'hood', '1' : 'hood_area'}, inplace=True)\n",
      "hood_areas.head(n=2)"
     ],
     "language": "python",
     "metadata": {},
     "outputs": [
      {
       "html": [
        "<div style=\"max-height:1000px;max-width:1500px;overflow:auto;\">\n",
        "<table border=\"1\" class=\"dataframe\">\n",
        "  <thead>\n",
        "    <tr style=\"text-align: right;\">\n",
        "      <th></th>\n",
        "      <th>hood</th>\n",
        "      <th>hood_area</th>\n",
        "    </tr>\n",
        "  </thead>\n",
        "  <tbody>\n",
        "    <tr>\n",
        "      <th>0</th>\n",
        "      <td> Financial District</td>\n",
        "      <td> 0.847272</td>\n",
        "    </tr>\n",
        "    <tr>\n",
        "      <th>1</th>\n",
        "      <td>         Parkmerced</td>\n",
        "      <td> 1.288294</td>\n",
        "    </tr>\n",
        "  </tbody>\n",
        "</table>\n",
        "</div>"
       ],
       "metadata": {},
       "output_type": "pyout",
       "prompt_number": 11,
       "text": [
        "                 hood  hood_area\n",
        "0  Financial District   0.847272\n",
        "1          Parkmerced   1.288294"
       ]
      }
     ],
     "prompt_number": 11
    },
    {
     "cell_type": "code",
     "collapsed": false,
     "input": [
      "#merge area of hoods into total data of hoods\n",
      "SF_hoods1=tots_merged_final.merge(hood_areas, on='hood')\n",
      "\n",
      "#move hood_area to second row\n",
      "cols = SF_hoods1.columns.tolist()\n",
      "cols = cols[0:1] +cols[-1:] +cols[1:-1] \n",
      "SF_hoods1 = SF_hoods1[cols]\n",
      "SF_hoods1.ix[:1, :20]\n",
      "\n",
      "#merge time variables with the total variables\n",
      "SF_hoods= SF_hoods1.merge(time_2013, on='hood')"
     ],
     "language": "python",
     "metadata": {},
     "outputs": [],
     "prompt_number": 12
    },
    {
     "cell_type": "code",
     "collapsed": false,
     "input": [
      "#see if final columns make sense\n",
      "print SF_hoods.shape\n",
      "SF_hoods.columns"
     ],
     "language": "python",
     "metadata": {},
     "outputs": [
      {
       "output_type": "stream",
       "stream": "stdout",
       "text": [
        "(116, 73)\n"
       ]
      },
      {
       "metadata": {},
       "output_type": "pyout",
       "prompt_number": 13,
       "text": [
        "Index([u'hood', u'hood_area', u'fog_zone', u'walk_score', u'transit_score', u'bike_score', u'restaurant_total', u'broker_tot', u'utilies_tot', u'transporting_tot', u'trucking_tot', u'wholesale_tot', u'architect_tot', u'nonprofit_grarage_tot', u'gen_contractors_tot', u'hotel_tot', u'cleaners_tot', u'money_tot', u'equip_rent_tot', u'services_tot', u'retail_tot', u'storage_tot', u'311 External Request', u'Abandoned Vehicle', u'Blocked Street or SideWalk', u'Catch Basin Maintenance', u'Color Curb', u'Construction Zone Permits', u'DPW Volunteer Programs', u'Damaged Property', u'General Requests', u'Graffiti Private Property', u'Graffiti Public Property', u'Illegal Postings', u'Interdepartmental Request', u'Litter Receptacles', u'MUNI Feedback', u'Rec and Park Requests', u'Residential Building Request', u'SFHA Requests', u'Sewer Issues', u'Sidewalk or Curb', u'Sign Repair', u'Street Defects', u'Street and Sidewalk Cleaning', u'Streetlights', u'Temporary Sign Request', u'Tree Maintenance', u'Unpermitted Cab Complaint', u'violent', u'disorderly', u'money_fraud', u'hedonistic', u'theft', u'1 Bedroom Properties', u'2 Bedroom Properties', u'3 Bedroom Properties', u'All Properties', u'broker_time', u'utilies_time', u'transporting_time', u'trucking_time', u'wholesale_time', u'architect_time', u'nonprofit_grarage_time', u'gen_contractors_time', u'hotel_time', u'cleaners_time', u'money_time', u'equip_rent_time', u'services_time', u'retail_time', u'storage_time'], dtype=object)"
       ]
      }
     ],
     "prompt_number": 13
    },
    {
     "cell_type": "heading",
     "level": 2,
     "metadata": {},
     "source": [
      "Data cleaning"
     ]
    },
    {
     "cell_type": "markdown",
     "metadata": {},
     "source": [
      "I should remove data points that seem to have little information, such as features that consist of all 0's.  I'm also going to remove parks because I don't want to risk quiet neighborhoods being seen as similar to parks (e.g., areas with no houses, businesses, etc.)"
     ]
    },
    {
     "cell_type": "code",
     "collapsed": false,
     "input": [
      "print 'Shape before: ' + str(SF_hoods.shape)\n",
      "\n",
      "#remove rows in my matrix that correspond to the following parks\n",
      "remove_list = ['Lincoln Park / Ft. Miley', 'Presidio National Park', \n",
      "               'Aquatic Park / Ft. Mason', 'Golden Gate Park',  'McLaren Park', \n",
      "               'Golden Gate Park']\n",
      "\n",
      "SF_hoods = SF_hoods[-SF_hoods['hood'].isin(remove_list)]\n",
      "\n",
      "print 'Shape after: ' + str(SF_hoods.shape)          "
     ],
     "language": "python",
     "metadata": {},
     "outputs": [
      {
       "output_type": "stream",
       "stream": "stdout",
       "text": [
        "Shape before: (116, 73)\n",
        "Shape after: (111, 73)\n"
       ]
      }
     ],
     "prompt_number": 14
    },
    {
     "cell_type": "markdown",
     "metadata": {},
     "source": [
      "Look at the features with a couple quick visualizations to see if there are odd features (e.g., signs of problems in my data pipeline).  "
     ]
    },
    {
     "cell_type": "code",
     "collapsed": false,
     "input": [
      "#LOOK AT MEAN VALUES OF EACH COLUMN\n",
      "figure(figsize=(22,6)) \n",
      "plot(SF_hoods[1:].mean(), 'o', markersize=3)\n",
      "pylab.title(\"mean observations\", fontsize=20)\n",
      "plt.ylabel('mean val of column', fontsize=18)\n",
      "plt.xlabel('column number', fontsize=18)\n"
     ],
     "language": "python",
     "metadata": {},
     "outputs": [
      {
       "metadata": {},
       "output_type": "pyout",
       "prompt_number": 15,
       "text": [
        "<matplotlib.text.Text at 0x10e81f750>"
       ]
      },
      {
       "metadata": {},
       "output_type": "display_data",
       "png": "[encoded data removed]",
       "text": [
        "<matplotlib.figure.Figure at 0x10e7f1dd0>"
       ]
      }
     ],
     "prompt_number": 15
    },
    {
     "cell_type": "code",
     "collapsed": false,
     "input": [
      "#there are a couple columns with abnormally large means.  Are they sensible? \n",
      "\n",
      "for i in SF_hoods.columns:\n",
      "    try:\n",
      "        if SF_hoods[i].mean() > 200:\n",
      "            print str(SF_hoods[i].mean()) + ' for ' + str(i) \n",
      "    except:\n",
      "        print ''\n",
      "    \n",
      "#seem like sensible variables to be higher than the rest"
     ],
     "language": "python",
     "metadata": {},
     "outputs": [
      {
       "output_type": "stream",
       "stream": "stdout",
       "text": [
        "\n",
        "631.432432432 for services_tot\n",
        "556.540540541 for Street and Sidewalk Cleaning\n",
        "402.18018018 for hedonistic\n",
        "466.405405405 for theft\n",
        "387.1 for All Properties\n"
       ]
      }
     ],
     "prompt_number": 16
    },
    {
     "cell_type": "code",
     "collapsed": false,
     "input": [
      "figure(figsize=(22,4)) \n",
      "pylab.ylim([0,10])\n",
      "plot(SF_hoods[1:].mean(), 'o', markersize=3)\n",
      "pylab.title(\"mean observations if under mean is under 5\", fontsize=20)\n",
      "plt.ylabel('mean val of column', fontsize=18)\n",
      "plt.xlabel('column number', fontsize=18)\n"
     ],
     "language": "python",
     "metadata": {},
     "outputs": [
      {
       "metadata": {},
       "output_type": "pyout",
       "prompt_number": 17,
       "text": [
        "<matplotlib.text.Text at 0x10e967690>"
       ]
      },
      {
       "metadata": {},
       "output_type": "display_data",
       "png": "[encoded data removed]",
       "text": [
        "<matplotlib.figure.Figure at 0x10e80ea50>"
       ]
      }
     ],
     "prompt_number": 17
    },
    {
     "cell_type": "code",
     "collapsed": false,
     "input": [
      "#NOW LOOK AT features with small standard deviations\n",
      "figure(figsize=(22,4)) \n",
      "pylab.ylim([0,5])\n",
      "plot(SF_hoods[1:].std(), 'o', markersize=3)\n",
      "pylab.title(\"st. dev. of column, showing only st. devs. below 10\", fontsize=20)\n",
      "plt.ylabel('st. dev of column', fontsize=18)\n",
      "plt.xlabel('column number', fontsize=18)\n",
      "\n",
      "#Some of the columns that are near 0 have very low st deviation too.  These are unlikely to be useful."
     ],
     "language": "python",
     "metadata": {},
     "outputs": [
      {
       "metadata": {},
       "output_type": "pyout",
       "prompt_number": 18,
       "text": [
        "<matplotlib.text.Text at 0x10e8e8dd0>"
       ]
      },
      {
       "metadata": {},
       "output_type": "display_data",
       "png": "[encoded data removed]",
       "text": [
        "<matplotlib.figure.Figure at 0x10e911b10>"
       ]
      }
     ],
     "prompt_number": 18
    },
    {
     "cell_type": "code",
     "collapsed": false,
     "input": [
      "#which features have very little information?  very sparse & low variabillity\n",
      "for i in SF_hoods.columns:\n",
      "    if i != 'hood':\n",
      "        if SF_hoods[i].mean() < 1:\n",
      "            print 'mean = ' + str(SF_hoods[i].mean())  + ' and stdev = ' + str(SF_hoods[i].std()) + ' for ' + str(i) \n",
      "    "
     ],
     "language": "python",
     "metadata": {},
     "outputs": [
      {
       "output_type": "stream",
       "stream": "stdout",
       "text": [
        "mean = 0.99903206958 and stdev = 1.06751854279 for hood_area\n",
        "mean = 0.036036036036 and stdev = 0.230727226905 for nonprofit_grarage_tot\n",
        "mean = 0.558558558559 and stdev = 2.51426723352 for money_tot\n",
        "mean = 0.018018018018 and stdev = 0.18983159915 for Construction Zone Permits\n",
        "mean = 0.171171171171 and stdev = 0.483808261681 for DPW Volunteer Programs\n",
        "mean = 0.0 and stdev = 0.0 for Interdepartmental Request\n",
        "mean = 0.873873873874 and stdev = 1.38246891872 for MUNI Feedback\n",
        "mean = 0.459459459459 and stdev = 1.22684950388 for Unpermitted Cab Complaint\n",
        "mean = 0.263636363636 and stdev = 1.26111406062 for utilies_time\n",
        "mean = 0.0636363636364 and stdev = 0.280146512365 for trucking_time\n",
        "mean = 0.845454545455 and stdev = 2.49471501429 for architect_time\n",
        "mean = 0.0181818181818 and stdev = 0.134220015312 for nonprofit_grarage_time\n",
        "mean = 0.454545454545 and stdev = 0.819894417418 for cleaners_time\n",
        "mean = 0.0545454545455 and stdev = 0.265314894659 for money_time\n",
        "mean = 0.309090909091 and stdev = 2.40315333572 for equip_rent_time\n",
        "mean = 0.1 and stdev = 0.405240895624 for storage_time\n"
       ]
      }
     ],
     "prompt_number": 19
    },
    {
     "cell_type": "markdown",
     "metadata": {},
     "source": [
      "A few variables are very sparse or have no meaningful data.  For example, 'Interdepartmental Request' is 0 with a st. dev of 0.  It clearly should be removed.  Bribery looks very sparse.  As a first pass, I'm going to remove some variables with very little information:  mean <.05"
     ]
    },
    {
     "cell_type": "code",
     "collapsed": false,
     "input": [
      "print 'Shape before: ' + str(SF_hoods.shape)\n",
      "\n",
      "for i in SF_hoods.columns:\n",
      "    if i != 'hood':\n",
      "        if SF_hoods[i].mean() < .02:\n",
      "            print i + ' was deleted.'\n",
      "            del SF_hoods[i]\n",
      "            \n",
      "print 'Shape after: ' + str(SF_hoods.shape)"
     ],
     "language": "python",
     "metadata": {},
     "outputs": [
      {
       "output_type": "stream",
       "stream": "stdout",
       "text": [
        "Shape before: (111, 73)\n",
        "Construction Zone Permits was deleted.\n",
        "Interdepartmental Request was deleted.\n",
        "nonprofit_grarage_time was deleted.\n",
        "Shape after: (111, 70)\n"
       ]
      }
     ],
     "prompt_number": 20
    },
    {
     "cell_type": "heading",
     "level": 2,
     "metadata": {},
     "source": [
      "Transformations"
     ]
    },
    {
     "cell_type": "markdown",
     "metadata": {},
     "source": [
      "Density Tranformation.  Neigbhorhoods vary in their size (i.e., area).  Most of my columns are looking at # of events (crime) or # units (e.g., restaurants) in a hood.  These variables should therefore be larger because of the size of the area examined (which is rather arbitrary) not because these units/events are actually greater in that hood.   So, I am goign to divide all columns, except columns 0-5, by area to create density variables (# of events or units / sq kilometer). "
     ]
    },
    {
     "cell_type": "code",
     "collapsed": false,
     "input": [
      "def density(row):\n",
      "    for i in range(6, len(SF_hoods.columns.tolist())):\n",
      "        row[i]=float(row[i])/row['hood_area']\n",
      "    return row\n",
      "    \n",
      "SF_hoods_density=SF_hoods.apply(density, axis=1)\n",
      "\n"
     ],
     "language": "python",
     "metadata": {},
     "outputs": [],
     "prompt_number": 21
    },
    {
     "cell_type": "code",
     "collapsed": false,
     "input": [
      "SF_hoods_density.index = range(0, len(SF_hoods_density))  \n",
      "SF_hoods_density.ix[:, 45:55].describe()"
     ],
     "language": "python",
     "metadata": {},
     "outputs": [
      {
       "html": [
        "<div style=\"max-height:1000px;max-width:1500px;overflow:auto;\">\n",
        "<table border=\"1\" class=\"dataframe\">\n",
        "  <thead>\n",
        "    <tr style=\"text-align: right;\">\n",
        "      <th></th>\n",
        "      <th>Tree Maintenance</th>\n",
        "      <th>Unpermitted Cab Complaint</th>\n",
        "      <th>violent</th>\n",
        "      <th>disorderly</th>\n",
        "      <th>money_fraud</th>\n",
        "      <th>hedonistic</th>\n",
        "      <th>theft</th>\n",
        "      <th>1 Bedroom Properties</th>\n",
        "      <th>2 Bedroom Properties</th>\n",
        "      <th>3 Bedroom Properties</th>\n",
        "    </tr>\n",
        "  </thead>\n",
        "  <tbody>\n",
        "    <tr>\n",
        "      <th>count</th>\n",
        "      <td> 111.000000</td>\n",
        "      <td> 111.000000</td>\n",
        "      <td>  111.000000</td>\n",
        "      <td>  111.000000</td>\n",
        "      <td> 111.000000</td>\n",
        "      <td>  111.000000</td>\n",
        "      <td>  111.000000</td>\n",
        "      <td>   60.000000</td>\n",
        "      <td>   60.000000</td>\n",
        "      <td>  60.000000</td>\n",
        "    </tr>\n",
        "    <tr>\n",
        "      <th>mean</th>\n",
        "      <td>  62.612358</td>\n",
        "      <td>   0.760188</td>\n",
        "      <td>  162.636464</td>\n",
        "      <td>   96.585728</td>\n",
        "      <td>  39.223933</td>\n",
        "      <td>  522.418708</td>\n",
        "      <td>  599.125376</td>\n",
        "      <td>   83.026172</td>\n",
        "      <td>  166.305453</td>\n",
        "      <td> 122.104731</td>\n",
        "    </tr>\n",
        "    <tr>\n",
        "      <th>std</th>\n",
        "      <td>  45.952615</td>\n",
        "      <td>   2.347050</td>\n",
        "      <td>  328.734614</td>\n",
        "      <td>  368.680041</td>\n",
        "      <td>  78.955862</td>\n",
        "      <td>  761.531437</td>\n",
        "      <td>  831.160311</td>\n",
        "      <td>  162.156119</td>\n",
        "      <td>  276.571294</td>\n",
        "      <td> 141.467610</td>\n",
        "    </tr>\n",
        "    <tr>\n",
        "      <th>min</th>\n",
        "      <td>   0.588351</td>\n",
        "      <td>   0.000000</td>\n",
        "      <td>    1.811635</td>\n",
        "      <td>    0.000000</td>\n",
        "      <td>   0.000000</td>\n",
        "      <td>   22.197053</td>\n",
        "      <td>   24.663393</td>\n",
        "      <td>    0.000000</td>\n",
        "      <td>    0.000000</td>\n",
        "      <td>   0.000000</td>\n",
        "    </tr>\n",
        "    <tr>\n",
        "      <th>25%</th>\n",
        "      <td>  31.009297</td>\n",
        "      <td>   0.000000</td>\n",
        "      <td>   33.449496</td>\n",
        "      <td>   10.632959</td>\n",
        "      <td>   8.412052</td>\n",
        "      <td>  152.839323</td>\n",
        "      <td>  174.847877</td>\n",
        "      <td>    0.000000</td>\n",
        "      <td>   37.176207</td>\n",
        "      <td>  39.669538</td>\n",
        "    </tr>\n",
        "    <tr>\n",
        "      <th>50%</th>\n",
        "      <td>  51.453956</td>\n",
        "      <td>   0.000000</td>\n",
        "      <td>   64.795085</td>\n",
        "      <td>   22.335094</td>\n",
        "      <td>  19.609650</td>\n",
        "      <td>  278.041236</td>\n",
        "      <td>  326.987689</td>\n",
        "      <td>   25.579229</td>\n",
        "      <td>   87.556324</td>\n",
        "      <td>  79.516139</td>\n",
        "    </tr>\n",
        "    <tr>\n",
        "      <th>75%</th>\n",
        "      <td>  88.768769</td>\n",
        "      <td>   0.000000</td>\n",
        "      <td>  178.842826</td>\n",
        "      <td>   50.220250</td>\n",
        "      <td>  36.896829</td>\n",
        "      <td>  625.918288</td>\n",
        "      <td>  711.215923</td>\n",
        "      <td>   80.685681</td>\n",
        "      <td>  199.106952</td>\n",
        "      <td> 143.467566</td>\n",
        "    </tr>\n",
        "    <tr>\n",
        "      <th>max</th>\n",
        "      <td> 232.182151</td>\n",
        "      <td>  16.201625</td>\n",
        "      <td> 2874.547634</td>\n",
        "      <td> 3675.471211</td>\n",
        "      <td> 714.493923</td>\n",
        "      <td> 6468.479206</td>\n",
        "      <td> 6805.350866</td>\n",
        "      <td> 1058.463267</td>\n",
        "      <td> 1796.991566</td>\n",
        "      <td> 784.615543</td>\n",
        "    </tr>\n",
        "  </tbody>\n",
        "</table>\n",
        "</div>"
       ],
       "metadata": {},
       "output_type": "pyout",
       "prompt_number": 22,
       "text": [
        "       Tree Maintenance  Unpermitted Cab Complaint      violent   disorderly  \\\n",
        "count        111.000000                 111.000000   111.000000   111.000000   \n",
        "mean          62.612358                   0.760188   162.636464    96.585728   \n",
        "std           45.952615                   2.347050   328.734614   368.680041   \n",
        "min            0.588351                   0.000000     1.811635     0.000000   \n",
        "25%           31.009297                   0.000000    33.449496    10.632959   \n",
        "50%           51.453956                   0.000000    64.795085    22.335094   \n",
        "75%           88.768769                   0.000000   178.842826    50.220250   \n",
        "max          232.182151                  16.201625  2874.547634  3675.471211   \n",
        "\n",
        "       money_fraud   hedonistic        theft  1 Bedroom Properties  \\\n",
        "count   111.000000   111.000000   111.000000             60.000000   \n",
        "mean     39.223933   522.418708   599.125376             83.026172   \n",
        "std      78.955862   761.531437   831.160311            162.156119   \n",
        "min       0.000000    22.197053    24.663393              0.000000   \n",
        "25%       8.412052   152.839323   174.847877              0.000000   \n",
        "50%      19.609650   278.041236   326.987689             25.579229   \n",
        "75%      36.896829   625.918288   711.215923             80.685681   \n",
        "max     714.493923  6468.479206  6805.350866           1058.463267   \n",
        "\n",
        "       2 Bedroom Properties  3 Bedroom Properties  \n",
        "count             60.000000             60.000000  \n",
        "mean             166.305453            122.104731  \n",
        "std              276.571294            141.467610  \n",
        "min                0.000000              0.000000  \n",
        "25%               37.176207             39.669538  \n",
        "50%               87.556324             79.516139  \n",
        "75%              199.106952            143.467566  \n",
        "max             1796.991566            784.615543  "
       ]
      }
     ],
     "prompt_number": 22
    },
    {
     "cell_type": "markdown",
     "metadata": {},
     "source": [
      "Now I am going to use sklearn's processing library to impute missing values and then scale the data"
     ]
    },
    {
     "cell_type": "code",
     "collapsed": false,
     "input": [
      "from sklearn import preprocessing\n",
      "from sklearn.preprocessing import Imputer"
     ],
     "language": "python",
     "metadata": {},
     "outputs": [],
     "prompt_number": 23
    },
    {
     "cell_type": "code",
     "collapsed": false,
     "input": [
      "hood_name = 'hood'\n",
      "feature_names = filter(lambda x: x not in hood_name, SF_hoods_density.columns)\n",
      "\n",
      "#use sklearn imputer to impute missing values\n",
      "imp = Imputer(missing_values='NaN', strategy='mean', axis=0)\n",
      "imp.fit(SF_hoods_density[feature_names])\n",
      "hoods_imputed = imp.transform(SF_hoods_density[feature_names])\n",
      "\n",
      "#now scale the data\n",
      "hoods_scaled = preprocessing.scale(hoods_imputed)"
     ],
     "language": "python",
     "metadata": {},
     "outputs": [],
     "prompt_number": 24
    },
    {
     "cell_type": "code",
     "collapsed": false,
     "input": [
      "#LOOK AT MEAN VALUES OF EACH COLUMN\n",
      "figure(figsize=(22,6)) \n",
      "plot(pd.DataFrame(hoods_scaled).mean(), 'o', markersize=3)\n",
      "pylab.title(\"mean of scaled data\", fontsize=20)\n",
      "plt.ylabel('mean val of scaled data', fontsize=18)\n",
      "plt.xlabel('column number', fontsize=18)\n"
     ],
     "language": "python",
     "metadata": {},
     "outputs": [
      {
       "metadata": {},
       "output_type": "pyout",
       "prompt_number": 25,
       "text": [
        "<matplotlib.text.Text at 0x110c55110>"
       ]
      },
      {
       "metadata": {},
       "output_type": "display_data",
       "png": "[encoded data removed]",
       "text": [
        "<matplotlib.figure.Figure at 0x10f3e3590>"
       ]
      }
     ],
     "prompt_number": 25
    },
    {
     "cell_type": "heading",
     "level": 2,
     "metadata": {},
     "source": [
      "Convert to csv"
     ]
    },
    {
     "cell_type": "markdown",
     "metadata": {},
     "source": [
      "I am going to turn scaled_df back into a pd dataframe with names"
     ]
    },
    {
     "cell_type": "code",
     "collapsed": false,
     "input": [
      "features = features = filter(lambda x: x not in list(['hood']), SF_hoods_density.columns)\n",
      "scaled_df = pd.DataFrame(hoods_scaled, columns=features)\n",
      "#insert hood names as the first column\n",
      "scaled_df.insert(0, 'hood', SF_hoods_density['hood'])\n",
      "scaled_df.ix[:3, -5:]\n"
     ],
     "language": "python",
     "metadata": {},
     "outputs": [
      {
       "html": [
        "<div style=\"max-height:1000px;max-width:1500px;overflow:auto;\">\n",
        "<table border=\"1\" class=\"dataframe\">\n",
        "  <thead>\n",
        "    <tr style=\"text-align: right;\">\n",
        "      <th></th>\n",
        "      <th>money_time</th>\n",
        "      <th>equip_rent_time</th>\n",
        "      <th>services_time</th>\n",
        "      <th>retail_time</th>\n",
        "      <th>storage_time</th>\n",
        "    </tr>\n",
        "  </thead>\n",
        "  <tbody>\n",
        "    <tr>\n",
        "      <th>0</th>\n",
        "      <td>-0.202709</td>\n",
        "      <td>-0.140525</td>\n",
        "      <td> 0.288796</td>\n",
        "      <td> 0.339644</td>\n",
        "      <td>-0.245124</td>\n",
        "    </tr>\n",
        "    <tr>\n",
        "      <th>1</th>\n",
        "      <td>-0.202709</td>\n",
        "      <td> 3.174726</td>\n",
        "      <td>-0.328434</td>\n",
        "      <td>-0.585421</td>\n",
        "      <td>-0.245124</td>\n",
        "    </tr>\n",
        "    <tr>\n",
        "      <th>2</th>\n",
        "      <td>-0.202709</td>\n",
        "      <td>-0.140525</td>\n",
        "      <td>-0.403449</td>\n",
        "      <td>-0.259829</td>\n",
        "      <td>-0.245124</td>\n",
        "    </tr>\n",
        "    <tr>\n",
        "      <th>3</th>\n",
        "      <td>-0.202709</td>\n",
        "      <td>-0.140525</td>\n",
        "      <td>-0.388852</td>\n",
        "      <td>-0.320736</td>\n",
        "      <td>-0.245124</td>\n",
        "    </tr>\n",
        "  </tbody>\n",
        "</table>\n",
        "</div>"
       ],
       "metadata": {},
       "output_type": "pyout",
       "prompt_number": 26,
       "text": [
        "   money_time  equip_rent_time  services_time  retail_time  storage_time\n",
        "0   -0.202709        -0.140525       0.288796     0.339644     -0.245124\n",
        "1   -0.202709         3.174726      -0.328434    -0.585421     -0.245124\n",
        "2   -0.202709        -0.140525      -0.403449    -0.259829     -0.245124\n",
        "3   -0.202709        -0.140525      -0.388852    -0.320736     -0.245124"
       ]
      }
     ],
     "prompt_number": 26
    },
    {
     "cell_type": "code",
     "collapsed": false,
     "input": [
      "scaled_df.to_csv('/Users/anson/Documents/Office/zipfian/repos/Personal_project/hoods_data/final_to_analyze/SF_hoods_density_full_1-27-14.csv')"
     ],
     "language": "python",
     "metadata": {},
     "outputs": [],
     "prompt_number": 27
    },
    {
     "cell_type": "code",
     "collapsed": false,
     "input": [
      "scaled_df.shape"
     ],
     "language": "python",
     "metadata": {},
     "outputs": [
      {
       "metadata": {},
       "output_type": "pyout",
       "prompt_number": 28,
       "text": [
        "(111, 70)"
       ]
      }
     ],
     "prompt_number": 28
    },
    {
     "cell_type": "code",
     "collapsed": false,
     "input": [],
     "language": "python",
     "metadata": {},
     "outputs": []
    }
   ],
   "metadata": {}
  }
 ]
}