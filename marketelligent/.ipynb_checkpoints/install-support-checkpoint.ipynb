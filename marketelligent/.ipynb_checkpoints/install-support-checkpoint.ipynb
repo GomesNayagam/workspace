{
 "metadata": {
  "celltoolbar": "Slideshow",
  "name": "",
  "signature": "sha256:3001e9b324faa2d9fa846f3cd08482afa74a551ced3e93371fec81ea0b988eac"
 },
 "nbformat": 3,
 "nbformat_minor": 0,
 "worksheets": [
  {
   "cells": [
    {
     "cell_type": "markdown",
     "metadata": {
      "slideshow": {
       "slide_type": "slide"
      }
     },
     "source": [
      "# Installing the slideshow support\n",
      "\n",
      "**NOTE** The tools here require IPython 1.0, they do *not* work with\n",
      "IPython 0.13.2.\n",
      "\n",
      "You should only need to run this notebook *once*. \n",
      "\n",
      "It will install the slideshow tools in your IPython profile from github.  It's done in steps so you can debug it more easily if things go wrong.\n",
      "\n",
      "Start by getting the location of your current profile:"
     ]
    },
    {
     "cell_type": "code",
     "collapsed": false,
     "input": [
      "profile_dir = get_ipython().profile_dir.location\n",
      "profile_dir"
     ],
     "language": "python",
     "metadata": {
      "slideshow": {
       "slide_type": "skip"
      }
     },
     "outputs": [
      {
       "metadata": {},
       "output_type": "pyout",
       "prompt_number": 1,
       "text": [
        "u'/home/gomes/.ipython/profile_default'"
       ]
      }
     ],
     "prompt_number": 1
    },
    {
     "cell_type": "markdown",
     "metadata": {
      "slideshow": {
       "slide_type": "slide"
      }
     },
     "source": [
      "Clone the [Github repo](https://github.com/ipython-contrib/IPython-notebook-extensions) with IPython extensions, including the slideshow support, into the right location:"
     ]
    },
    {
     "cell_type": "code",
     "collapsed": false,
     "input": [
      "import os\n",
      "tgt = os.path.join( profile_dir, 'static', 'custom')\n",
      "!git clone https://github.com/ipython-contrib/IPython-notebook-extensions.git $tgt"
     ],
     "language": "python",
     "metadata": {
      "slideshow": {
       "slide_type": "subslide"
      }
     },
     "outputs": [
      {
       "output_type": "stream",
       "stream": "stdout",
       "text": [
        "Cloning into '/home/gomes/.ipython/profile_default/static/custom'...\r\n"
       ]
      },
      {
       "output_type": "stream",
       "stream": "stdout",
       "text": [
        "remote: Reusing existing pack: 739, done.\u001b[K"
       ]
      },
      {
       "output_type": "stream",
       "stream": "stdout",
       "text": [
        "\r\n",
        "remote: Counting objects: 34, done.\u001b[K\r\n",
        "remote: Compressing objects:   3% (1/29)   \u001b[K\r",
        "remote: Compressing objects:   6% (2/29)   \u001b[K\r",
        "remote: Compressing objects:  10% (3/29)   \u001b[K\r",
        "remote: Compressing objects:  13% (4/29)   \u001b[K\r",
        "remote: Compressing objects:  17% (5/29)   \u001b[K\r"
       ]
      },
      {
       "output_type": "stream",
       "stream": "stdout",
       "text": [
        "remote: Compressing objects:  20% (6/29)   \u001b[K\r",
        "remote: Compressing objects:  24% (7/29)   \u001b[K\r",
        "remote: Compressing objects:  27% (8/29)   \u001b[K\r",
        "remote: Compressing objects:  31% (9/29)   \u001b[K\r",
        "remote: Compressing objects:  34% (10/29)   \u001b[K\r",
        "remote: Compressing objects:  37% (11/29)   \u001b[K\r",
        "remote: Compressing objects:  41% (12/29)   \u001b[K\r",
        "remote: Compressing objects:  44% (13/29)   \u001b[K\r",
        "remote: Compressing objects:  48% (14/29)   \u001b[K\r",
        "remote: Compressing objects:  51% (15/29)   \u001b[K\r",
        "remote: Compressing objects:  55% (16/29)   \u001b[K\r",
        "remote: Compressing objects:  58% (17/29)   \u001b[K\r",
        "remote: Compressing objects:  62% (18/29)   \u001b[K\r",
        "remote: Compressing objects:  65% (19/29)   \u001b[K\r",
        "remote: Compressing objects:  68% (20/29)   \u001b[K\r",
        "remote: Compressing objects:  72% (21/29)   \u001b[K\r",
        "remote: Compressing objects:  75% (22/29)   \u001b[K\r",
        "remote: Compressing objects:  79% (23/29)   \u001b[K\r",
        "remote: Compressing objects:  82% (24/29)   \u001b[K\r",
        "remote: Compressing objects:  86% (25/29)   \u001b[K\r",
        "remote: Compressing objects:  89% (26/29)   \u001b[K\r",
        "remote: Compressing objects:  93% (27/29)   \u001b[K\r",
        "remote: Compressing objects:  96% (28/29)   \u001b[K\r",
        "remote: Compressing objects: 100% (29/29)   \u001b[K\r",
        "remote: Compressing objects: 100% (29/29), done.\u001b[K\r\n",
        "Receiving objects:   0% (1/773)   \r",
        "Receiving objects:   1% (8/773)   \r",
        "Receiving objects:   2% (16/773)   \r",
        "Receiving objects:   3% (24/773)   \r",
        "Receiving objects:   4% (31/773)   \r",
        "Receiving objects:   5% (39/773)   \r"
       ]
      },
      {
       "output_type": "stream",
       "stream": "stdout",
       "text": [
        "Receiving objects:   6% (47/773)   \r",
        "Receiving objects:   7% (55/773)   \r",
        "Receiving objects:   8% (62/773)   \r",
        "Receiving objects:   9% (70/773)   \r",
        "Receiving objects:  10% (78/773)   \r",
        "Receiving objects:  11% (86/773)   \r",
        "Receiving objects:  12% (93/773)   \r",
        "Receiving objects:  13% (101/773)   \r",
        "Receiving objects:  14% (109/773)   \r",
        "Receiving objects:  15% (116/773)   \r",
        "Receiving objects:  16% (124/773)   \r"
       ]
      },
      {
       "output_type": "stream",
       "stream": "stdout",
       "text": [
        "Receiving objects:  17% (132/773)   \r",
        "Receiving objects:  18% (140/773)   \r",
        "Receiving objects:  19% (147/773)   \r",
        "Receiving objects:  20% (155/773)   \r",
        "Receiving objects:  21% (163/773)   \r",
        "Receiving objects:  22% (171/773)   \r",
        "Receiving objects:  23% (178/773)   \r",
        "Receiving objects:  24% (186/773)   \r",
        "Receiving objects:  25% (194/773)   \r",
        "Receiving objects:  26% (201/773)   \r"
       ]
      },
      {
       "output_type": "stream",
       "stream": "stdout",
       "text": [
        "Receiving objects:  27% (209/773), 60.00 KiB | 90 KiB/s   \r",
        "Receiving objects:  28% (217/773), 60.00 KiB | 90 KiB/s   \r"
       ]
      },
      {
       "output_type": "stream",
       "stream": "stdout",
       "text": [
        "Receiving objects:  29% (225/773), 60.00 KiB | 90 KiB/s   \r"
       ]
      },
      {
       "output_type": "stream",
       "stream": "stdout",
       "text": [
        "Receiving objects:  29% (228/773), 164.00 KiB | 128 KiB/s   \r"
       ]
      },
      {
       "output_type": "stream",
       "stream": "stdout",
       "text": [
        "Receiving objects:  29% (229/773), 636.00 KiB | 252 KiB/s   \r"
       ]
      },
      {
       "output_type": "stream",
       "stream": "stdout",
       "text": [
        "Receiving objects:  29% (230/773), 908.00 KiB | 286 KiB/s   \r"
       ]
      },
      {
       "output_type": "stream",
       "stream": "stdout",
       "text": [
        "Receiving objects:  30% (232/773), 1.18 MiB | 327 KiB/s   \r"
       ]
      },
      {
       "output_type": "stream",
       "stream": "stdout",
       "text": [
        "Receiving objects:  30% (232/773), 1.43 MiB | 348 KiB/s   \r"
       ]
      },
      {
       "output_type": "stream",
       "stream": "stdout",
       "text": [
        "Receiving objects:  30% (235/773), 1.64 MiB | 350 KiB/s   \r"
       ]
      },
      {
       "output_type": "stream",
       "stream": "stdout",
       "text": [
        "Receiving objects:  31% (240/773), 1.95 MiB | 376 KiB/s   \r",
        "Receiving objects:  32% (248/773), 1.95 MiB | 376 KiB/s   \r",
        "Receiving objects:  33% (256/773), 1.95 MiB | 376 KiB/s   \r"
       ]
      },
      {
       "output_type": "stream",
       "stream": "stdout",
       "text": [
        "Receiving objects:  34% (263/773), 1.95 MiB | 376 KiB/s   \r",
        "Receiving objects:  35% (271/773), 1.95 MiB | 376 KiB/s   \r",
        "Receiving objects:  36% (279/773), 1.95 MiB | 376 KiB/s   \r"
       ]
      },
      {
       "output_type": "stream",
       "stream": "stdout",
       "text": [
        "Receiving objects:  37% (287/773), 1.95 MiB | 376 KiB/s   \r",
        "Receiving objects:  38% (294/773), 1.95 MiB | 376 KiB/s   \r"
       ]
      },
      {
       "output_type": "stream",
       "stream": "stdout",
       "text": [
        "Receiving objects:  39% (302/773), 2.17 MiB | 416 KiB/s   \r"
       ]
      },
      {
       "output_type": "stream",
       "stream": "stdout",
       "text": [
        "Receiving objects:  40% (310/773), 2.17 MiB | 416 KiB/s   \r"
       ]
      },
      {
       "output_type": "stream",
       "stream": "stdout",
       "text": [
        "Receiving objects:  40% (311/773), 2.17 MiB | 416 KiB/s   \r"
       ]
      },
      {
       "output_type": "stream",
       "stream": "stdout",
       "text": [
        "Receiving objects:  41% (317/773), 2.40 MiB | 451 KiB/s   \r",
        "Receiving objects:  42% (325/773), 2.40 MiB | 451 KiB/s   \r",
        "Receiving objects:  43% (333/773), 2.40 MiB | 451 KiB/s   \r",
        "Receiving objects:  44% (341/773), 2.40 MiB | 451 KiB/s   \r",
        "Receiving objects:  45% (348/773), 2.40 MiB | 451 KiB/s   \r",
        "Receiving objects:  46% (356/773), 2.40 MiB | 451 KiB/s   \r",
        "Receiving objects:  47% (364/773), 2.40 MiB | 451 KiB/s   \r",
        "Receiving objects:  48% (372/773), 2.40 MiB | 451 KiB/s   \r",
        "Receiving objects:  49% (379/773), 2.40 MiB | 451 KiB/s   \r",
        "Receiving objects:  50% (387/773), 2.40 MiB | 451 KiB/s   \r",
        "Receiving objects:  51% (395/773), 2.40 MiB | 451 KiB/s   \r",
        "Receiving objects:  52% (402/773), 2.40 MiB | 451 KiB/s   \r",
        "Receiving objects:  53% (410/773), 2.40 MiB | 451 KiB/s   \r",
        "Receiving objects:  54% (418/773), 2.40 MiB | 451 KiB/s   \r",
        "Receiving objects:  55% (426/773), 2.40 MiB | 451 KiB/s   \r",
        "Receiving objects:  56% (433/773), 2.40 MiB | 451 KiB/s   \r",
        "Receiving objects:  57% (441/773), 2.40 MiB | 451 KiB/s   \r",
        "Receiving objects:  58% (449/773), 2.40 MiB | 451 KiB/s   \r"
       ]
      },
      {
       "output_type": "stream",
       "stream": "stdout",
       "text": [
        "Receiving objects:  59% (457/773), 2.40 MiB | 451 KiB/s   \r",
        "Receiving objects:  60% (464/773), 2.40 MiB | 451 KiB/s   \r",
        "Receiving objects:  61% (472/773), 2.40 MiB | 451 KiB/s   \r"
       ]
      },
      {
       "output_type": "stream",
       "stream": "stdout",
       "text": [
        "Receiving objects:  62% (480/773), 2.40 MiB | 451 KiB/s   \r",
        "Receiving objects:  63% (487/773), 2.40 MiB | 451 KiB/s   \r",
        "Receiving objects:  64% (495/773), 2.40 MiB | 451 KiB/s   \r",
        "Receiving objects:  65% (503/773), 2.40 MiB | 451 KiB/s   \r",
        "Receiving objects:  66% (511/773), 2.40 MiB | 451 KiB/s   \r",
        "Receiving objects:  67% (518/773), 2.40 MiB | 451 KiB/s   \r",
        "Receiving objects:  68% (526/773), 2.40 MiB | 451 KiB/s   \r",
        "Receiving objects:  69% (534/773), 2.40 MiB | 451 KiB/s   \r",
        "Receiving objects:  70% (542/773), 2.40 MiB | 451 KiB/s   \r",
        "Receiving objects:  71% (549/773), 2.40 MiB | 451 KiB/s   \r",
        "Receiving objects:  72% (557/773), 2.40 MiB | 451 KiB/s   \r",
        "Receiving objects:  73% (565/773), 2.40 MiB | 451 KiB/s   \r",
        "Receiving objects:  74% (573/773), 2.40 MiB | 451 KiB/s   \r",
        "Receiving objects:  75% (580/773), 2.40 MiB | 451 KiB/s   \r",
        "Receiving objects:  76% (588/773), 2.40 MiB | 451 KiB/s   \r"
       ]
      },
      {
       "output_type": "stream",
       "stream": "stdout",
       "text": [
        "Receiving objects:  77% (596/773), 2.40 MiB | 451 KiB/s   \r",
        "Receiving objects:  78% (603/773), 2.40 MiB | 451 KiB/s   \r",
        "Receiving objects:  79% (611/773), 2.40 MiB | 451 KiB/s   \r",
        "Receiving objects:  80% (619/773), 2.40 MiB | 451 KiB/s   \r",
        "Receiving objects:  81% (627/773), 2.40 MiB | 451 KiB/s   \r",
        "Receiving objects:  82% (634/773), 2.40 MiB | 451 KiB/s   \r",
        "Receiving objects:  83% (642/773), 2.40 MiB | 451 KiB/s   \r",
        "Receiving objects:  84% (650/773), 2.40 MiB | 451 KiB/s   \r",
        "Receiving objects:  85% (658/773), 2.40 MiB | 451 KiB/s   \r",
        "Receiving objects:  86% (665/773), 2.40 MiB | 451 KiB/s   \r",
        "Receiving objects:  87% (673/773), 2.40 MiB | 451 KiB/s   \r"
       ]
      },
      {
       "output_type": "stream",
       "stream": "stdout",
       "text": [
        "Receiving objects:  88% (681/773), 2.40 MiB | 451 KiB/s   \r",
        "Receiving objects:  89% (688/773), 2.40 MiB | 451 KiB/s   \r",
        "Receiving objects:  90% (696/773), 2.40 MiB | 451 KiB/s   \r",
        "Receiving objects:  91% (704/773), 2.40 MiB | 451 KiB/s   \r",
        "Receiving objects:  92% (712/773), 2.40 MiB | 451 KiB/s   \r",
        "Receiving objects:  93% (719/773), 2.40 MiB | 451 KiB/s   \r",
        "Receiving objects:  94% (727/773), 2.40 MiB | 451 KiB/s   \r",
        "Receiving objects:  95% (735/773), 2.40 MiB | 451 KiB/s   \r",
        "Receiving objects:  96% (743/773), 2.40 MiB | 451 KiB/s   \r",
        "Receiving objects:  97% (750/773), 2.40 MiB | 451 KiB/s   \r"
       ]
      },
      {
       "output_type": "stream",
       "stream": "stdout",
       "text": [
        "Receiving objects:  98% (758/773), 2.40 MiB | 451 KiB/s   \r",
        "remote: Total 773 (delta 11), reused 11 (delta 4)\u001b[K\r\n",
        "Receiving objects:  99% (766/773), 2.40 MiB | 451 KiB/s   \r",
        "Receiving objects: 100% (773/773), 2.40 MiB | 451 KiB/s   \r",
        "Receiving objects: 100% (773/773), 2.63 MiB | 467 KiB/s, done.\r\n",
        "Resolving deltas:   0% (0/335)   \r",
        "Resolving deltas:   1% (4/335)   \r",
        "Resolving deltas:   2% (7/335)   \r",
        "Resolving deltas:   3% (12/335)   \r",
        "Resolving deltas:   5% (18/335)   \r",
        "Resolving deltas:   6% (22/335)   \r",
        "Resolving deltas:   7% (24/335)   \r",
        "Resolving deltas:   8% (27/335)   \r",
        "Resolving deltas:  19% (65/335)   \r",
        "Resolving deltas:  20% (67/335)   \r"
       ]
      },
      {
       "output_type": "stream",
       "stream": "stdout",
       "text": [
        "Resolving deltas:  22% (77/335)   \r",
        "Resolving deltas:  24% (82/335)   \r",
        "Resolving deltas:  25% (85/335)   \r",
        "Resolving deltas:  26% (88/335)   \r",
        "Resolving deltas:  27% (91/335)   \r",
        "Resolving deltas:  28% (97/335)   \r",
        "Resolving deltas:  29% (98/335)   \r",
        "Resolving deltas:  30% (101/335)   \r",
        "Resolving deltas:  31% (104/335)   \r",
        "Resolving deltas:  35% (120/335)   \r",
        "Resolving deltas:  50% (169/335)   \r",
        "Resolving deltas:  51% (173/335)   \r",
        "Resolving deltas:  52% (176/335)   \r",
        "Resolving deltas:  53% (180/335)   \r",
        "Resolving deltas:  54% (181/335)   \r",
        "Resolving deltas:  55% (185/335)   \r",
        "Resolving deltas:  59% (198/335)   \r",
        "Resolving deltas:  62% (211/335)   \r",
        "Resolving deltas:  63% (212/335)   \r",
        "Resolving deltas:  64% (216/335)   \r",
        "Resolving deltas:  65% (219/335)   \r",
        "Resolving deltas:  76% (255/335)   \r",
        "Resolving deltas:  77% (258/335)   \r",
        "Resolving deltas:  78% (262/335)   \r",
        "Resolving deltas:  81% (272/335)   \r",
        "Resolving deltas:  86% (290/335)   \r",
        "Resolving deltas:  87% (292/335)   \r",
        "Resolving deltas:  88% (295/335)   \r",
        "Resolving deltas:  89% (300/335)   \r",
        "Resolving deltas:  90% (302/335)   \r",
        "Resolving deltas:  91% (308/335)   \r",
        "Resolving deltas:  92% (309/335)   \r",
        "Resolving deltas:  93% (312/335)   \r",
        "Resolving deltas:  94% (315/335)   \r",
        "Resolving deltas:  96% (324/335)   \r",
        "Resolving deltas:  98% (330/335)   \r",
        "Resolving deltas:  99% (334/335)   \r",
        "Resolving deltas: 100% (335/335)   \r",
        "Resolving deltas: 100% (335/335), done.\r\n"
       ]
      }
     ],
     "prompt_number": 3
    },
    {
     "cell_type": "markdown",
     "metadata": {
      "slideshow": {
       "slide_type": "slide"
      }
     },
     "source": [
      "Let's `cd` into that directory and check that the contents look right:"
     ]
    },
    {
     "cell_type": "code",
     "collapsed": false,
     "input": [
      "%cd $tgt\n",
      "!ls"
     ],
     "language": "python",
     "metadata": {
      "slideshow": {
       "slide_type": "subslide"
      }
     },
     "outputs": [
      {
       "output_type": "stream",
       "stream": "stdout",
       "text": [
        "/home/gomes/.ipython/profile_default/static/custom\n",
        "custom.example.js  helper-functions.js\thierarchical_collapse.js  publishing  README.md  slidemode  styling  testing  usability  wiki-images\r\n"
       ]
      }
     ],
     "prompt_number": 4
    },
    {
     "cell_type": "markdown",
     "metadata": {
      "slideshow": {
       "slide_type": "slide"
      }
     },
     "source": [
      "Finally, write out a `custom.js` file that has activated the slideshow extension.  This is simply the provided `custom.example.js` file, with two lines commented out. Feel free to add more to activate other extensions, as explained in the `README.md` file:"
     ]
    },
    {
     "cell_type": "code",
     "collapsed": false,
     "input": [
      "%%writefile custom.js\n",
      "// we want strict javascript that fails\n",
      "// on ambiguous syntax\n",
      "\"using strict\";\n",
      "\n",
      "// do not use notebook loaded  event as it is re-triggerd on\n",
      "// revert to checkpoint but this allow extesnsion to be loaded\n",
      "// late enough to work.\n",
      "//\n",
      "\n",
      "$([IPython.events]).on('app_initialized.NotebookApp', function(){\n",
      "\n",
      "\n",
      "    /**  Use path to js file relative to /static/ dir without leading slash, or\n",
      "     *  js extension.\n",
      "     *  Link directly to file is js extension.\n",
      "     *\n",
      "     *  first argument of require is a **list** that can contains several modules if needed.\n",
      "     **/\n",
      "\n",
      "    // require(['custom/noscroll']);\n",
      "    // require(['custom/clean_start'])\n",
      "    // require(['custom/toggle_all_line_number'])\n",
      "    // require(['custom/gist_it']);\n",
      "\n",
      "    /**\n",
      "     *  Link to entrypoint if extesnsion is a folder.\n",
      "     *  to be consistent with commonjs module, the entrypoint is main.js\n",
      "     *  here youcan also trigger a custom function on load that will do extra\n",
      "     *  action with the module if needed\n",
      "     **/\n",
      "     require(['custom/slidemode/main'],function(slidemode){\n",
      "    //     // do stuff\n",
      "     })\n",
      "\n",
      "});\n"
     ],
     "language": "python",
     "metadata": {
      "slideshow": {
       "slide_type": "slide"
      }
     },
     "outputs": [
      {
       "output_type": "stream",
       "stream": "stdout",
       "text": [
        "Writing custom.js\n"
       ]
      }
     ],
     "prompt_number": 5
    },
    {
     "cell_type": "markdown",
     "metadata": {
      "slideshow": {
       "slide_type": "slide"
      }
     },
     "source": [
      "That's it! You should now restart your notebook server and reload the pages just to make sure you get fresh CSS.  If everything went well, your toolbar should look like this, with a new button highlighted here in red:\n",
      "\n",
      "![img](files/toolbar-slideshow.png)\n",
      "\n",
      "That new button is the toggle to enter live slideshow mode, which you can use to switch between the normal editing mode (with the whole notebook as one long scrolling document) and the presentation mode.\n",
      "\n",
      "Now that you've read this, look at the accompanying `notebook-slideshow-example` notebook as a starting illustration of how you can write a presentation-oriented notebook."
     ]
    }
   ],
   "metadata": {}
  }
 ]
}